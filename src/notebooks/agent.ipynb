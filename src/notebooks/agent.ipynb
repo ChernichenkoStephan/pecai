{
 "cells": [
  {
   "cell_type": "code",
   "execution_count": 4,
   "id": "0632f098-e47f-4363-a70d-55ed70f4aaf2",
   "metadata": {
    "tags": [],
    "vscode": {
     "languageId": "python"
    }
   },
   "outputs": [],
   "source": [
    "# %pip install pydantic"
   ]
  },
  {
   "cell_type": "code",
   "execution_count": 5,
   "id": "c177aac5-2635-4df1-ad93-e62004fa62cc",
   "metadata": {
    "tags": [],
    "vscode": {
     "languageId": "python"
    }
   },
   "outputs": [],
   "source": [
    "# %pip install --upgrade langchain"
   ]
  },
  {
   "cell_type": "code",
   "execution_count": 417,
   "id": "e689d165-a5a5-402a-a7ac-d11ff4ef7914",
   "metadata": {
    "tags": [],
    "vscode": {
     "languageId": "python"
    }
   },
   "outputs": [],
   "source": [
    "# %pip install cryptography"
   ]
  },
  {
   "cell_type": "markdown",
   "id": "66952666-04e6-4a85-9164-92a7969c6fd4",
   "metadata": {},
   "source": [
    "# Dependencies"
   ]
  },
  {
   "cell_type": "code",
   "execution_count": 5,
   "id": "3946689e-107c-422b-a486-ce87bbf2d1af",
   "metadata": {
    "tags": [],
    "vscode": {
     "languageId": "python"
    }
   },
   "outputs": [],
   "source": [
    "import requests\n",
    "import time\n",
    "import jwt\n",
    "import json\n",
    "from pydantic import BaseModel, Field\n",
    "import typing\n",
    "import re\n",
    "\n",
    "import natasha  \n",
    "from pymystem3 import Mystem\n",
    "\n",
    "import transformers\n",
    "from transformers.pipelines import token_classification\n",
    "from langchain_text_splitters import RecursiveCharacterTextSplitter\n",
    "import torch\n",
    "\n",
    "from langchain_core.runnables import RunnableBranch\n",
    "from langchain_core.callbacks.manager import CallbackManagerForLLMRun\n",
    "from langchain_core.language_models.llms import LLM\n",
    "from langchain.chains import LLMChain\n",
    "from langchain.prompts import PromptTemplate\n",
    "import subprocess\n",
    "import yandexcloud\n",
    "\n",
    "from langchain.chains import GraphCypherQAChain\n",
    "from langchain_community.graphs import Neo4jGraph\n",
    "\n",
    "from dataclasses import dataclass, field\n",
    "\n",
    "from operator import itemgetter\n",
    "from langchain.schema.output_parser import StrOutputParser\n",
    "from langchain.schema.runnable import RunnablePassthrough\n",
    "from langchain_core.runnables.config import RunnableConfig\n",
    "\n",
    "import transformers\n",
    "from transformers.pipelines import token_classification\n",
    "\n",
    "import pandas as pd\n",
    "\n",
    "from dataclasses import dataclass\n",
    "import numpy as np"
   ]
  },
  {
   "cell_type": "code",
   "execution_count": 6,
   "id": "0d735090-106b-4f82-befe-42fe1cf38d74",
   "metadata": {
    "tags": [],
    "vscode": {
     "languageId": "python"
    }
   },
   "outputs": [
    {
     "data": {
      "text/plain": [
       "'1.10.12'"
      ]
     },
     "execution_count": 6,
     "metadata": {},
     "output_type": "execute_result"
    }
   ],
   "source": [
    "import pydantic\n",
    "pydantic.__version__"
   ]
  },
  {
   "cell_type": "code",
   "execution_count": 7,
   "id": "21c26292-6829-406b-a77a-ea449ff61daa",
   "metadata": {
    "vscode": {
     "languageId": "python"
    }
   },
   "outputs": [],
   "source": [
    "import os\n",
    "os.environ[\"TOKENIZERS_PARALLELISM\"] = \"false\""
   ]
  },
  {
   "cell_type": "code",
   "execution_count": 8,
   "id": "dfcbfe73-42c0-4aa0-8952-7b2671c72401",
   "metadata": {
    "tags": [],
    "vscode": {
     "languageId": "python"
    }
   },
   "outputs": [],
   "source": [
    "# from yandex.cloud.ai.foundation_models.v1.foundation_models_service_pb2 import CompletionRequest"
   ]
  },
  {
   "cell_type": "markdown",
   "id": "e7e864d5-7949-4d14-a262-c40a08a3e3e0",
   "metadata": {},
   "source": [
    "https://python.langchain.com/docs/use_cases/graph/integrations/graph_cypher_qa#seeding-the-database"
   ]
  },
  {
   "cell_type": "code",
   "execution_count": 10,
   "id": "8414a49d-cd9a-4337-b9ad-40702cd81b02",
   "metadata": {
    "tags": [],
    "vscode": {
     "languageId": "python"
    }
   },
   "outputs": [],
   "source": [
    "class PrintLogger:\n",
    "    def debug(self, text):\n",
    "        self._print(text)\n",
    "        \n",
    "    def info(self, text):\n",
    "        self._print(text)\n",
    "        \n",
    "    def warning(self, text):\n",
    "        self._print(text)\n",
    "\n",
    "    def error(self, text):\n",
    "        print(text)\n",
    "        \n",
    "    def _print(self, text):\n",
    "        if len(text) > 100:\n",
    "            print(f'{text[:50]}...{text[len(text)-50:]}')\n",
    "        else:\n",
    "            print(text)\n",
    "\n",
    "logger = PrintLogger()\n",
    "#logging.getLogger(__name__)\n",
    "# logging.basicConfig(filename='example.log', encoding='utf-8', level=logging.DEBUG)\n",
    "# logger.debug('debug')"
   ]
  },
  {
   "cell_type": "code",
   "execution_count": 11,
   "id": "7b639240-903f-48d2-a9e7-773c8800a292",
   "metadata": {
    "tags": [],
    "vscode": {
     "languageId": "python"
    }
   },
   "outputs": [],
   "source": [
    "import spacy\n",
    "nlp = spacy.load('ru_core_news_sm')"
   ]
  },
  {
   "cell_type": "code",
   "execution_count": 12,
   "id": "1c827b93-936e-4ba0-b233-b13c209573de",
   "metadata": {
    "tags": [],
    "vscode": {
     "languageId": "python"
    }
   },
   "outputs": [],
   "source": [
    "nlp.to_disk('../../models/ru_core_news_sm/')"
   ]
  },
  {
   "cell_type": "markdown",
   "id": "9be34107-da82-45d4-bfd2-c0eb4e0a68e3",
   "metadata": {
    "tags": []
   },
   "source": [
    "# YandexGPT API"
   ]
  },
  {
   "cell_type": "markdown",
   "id": "1bb21450-7a7d-45d2-8daa-9e1c1a685c67",
   "metadata": {},
   "source": [
    "+ https://cloud.yandex.com/en/docs/yandexgpt/concepts/limits?from=int-console-help-center-or-nav&from=service-start-page\n",
    "\n",
    "* Number of concurrent generations \t1\n",
    "* Number of requests per hour, synchronous mode \t100 \n",
    "* Number of requests per second, asynchronous mode (request) \t10 \n",
    "* Number of requests per second, asynchronous mode (getting a response) \t50 \n",
    "* Number of requests per hour, asynchronous mode (request) \t5,000 \t5\n",
    "* Number of tokenization requests per second \t50"
   ]
  },
  {
   "cell_type": "code",
   "execution_count": 15,
   "id": "06e928f0-6c8b-4606-a972-05d3b82c6371",
   "metadata": {
    "tags": [],
    "vscode": {
     "languageId": "python"
    }
   },
   "outputs": [],
   "source": [
    "FOLDER_ID = 'b1gblkreot4qt81r08ke'\n",
    "# TEST_URL = 'https://resource-manager.api.cloud.yandex.net/resource-manager/v1/clouds'"
   ]
  },
  {
   "cell_type": "code",
   "execution_count": 16,
   "id": "b8cd111a-6b91-4ac4-afc6-2bb3ce2d023d",
   "metadata": {
    "tags": [],
    "vscode": {
     "languageId": "python"
    }
   },
   "outputs": [],
   "source": [
    "# process_res = subprocess.run(['/Users/sephansavchenko/yandex-cloud/bin/yc', 'iam', 'create-token'], capture_output=True)\n",
    "# process_res"
   ]
  },
  {
   "cell_type": "code",
   "execution_count": 18,
   "id": "38a36984-ef3b-4d62-843c-d4df30fa27c5",
   "metadata": {
    "tags": [],
    "vscode": {
     "languageId": "python"
    }
   },
   "outputs": [],
   "source": [
    "# IAM_TOKEN = (str(process_res.stdout, \"utf-8\") + '')[:-1]\n",
    "# IAM_TOKEN"
   ]
  },
  {
   "cell_type": "code",
   "execution_count": 19,
   "id": "d0c61254-dce2-4c47-85ce-b07d98474740",
   "metadata": {
    "tags": [],
    "vscode": {
     "languageId": "python"
    }
   },
   "outputs": [],
   "source": [
    "# O_AUTH_TOKEN = 'y0_AgAAAAA06xtdAATuwQAAAAD_GSjuAAASBtLA3OpE_Jz50-WL6QeEwO3MWw'"
   ]
  },
  {
   "cell_type": "code",
   "execution_count": 20,
   "id": "b3eb796e-42bc-48c1-ba84-32c0478b42b3",
   "metadata": {
    "tags": [],
    "vscode": {
     "languageId": "python"
    }
   },
   "outputs": [],
   "source": [
    "# !yc iam key create --service-account-name sa4pecai -o sa4pecai-key.json"
   ]
  },
  {
   "cell_type": "code",
   "execution_count": 21,
   "id": "19323358-e57d-41aa-811d-ebbd60c12d92",
   "metadata": {
    "tags": [],
    "vscode": {
     "languageId": "python"
    }
   },
   "outputs": [],
   "source": [
    "# class fakeresp:\n",
    "#     status_code = 200\n",
    "#     def json(self):\n",
    "#         return {'iamToken': 't1.9euelZqYnY6ZjcaTksiclZPHjcbGju3rnpWakpKViZTJypjPmZHJnJ6cmM7l8_cNJzVP-e8wEDJL_N3z901VMk_57zAQMkv8zef1656VmomMz8bKkciUzs6QzZ6MioyW7_zN5_XrnpWaip6cl5PLy4rMy86WnJHLzpvv_cXrnpWaiYzPxsqRyJTOzpDNnoyKjJY.BmEB9TCiT10XUZSaNY6VEri-3rhekpdUvmD07hyVUSLccr3CbrZb-aT_ql58M2wTmYKIphV7-t0ksXPHHD5vBQ', 'expiresAt': '2024-04-08T02:23:46.915634127Z'}\n",
    "\n",
    "# class fakereq:\n",
    "#     def post(*p, **k):\n",
    "#         return fakeresp()\n",
    "    \n",
    "# requests = fakereq()"
   ]
  },
  {
   "cell_type": "code",
   "execution_count": 22,
   "id": "39aa2c1f-53fe-42aa-8e86-ecbff2d0b9b8",
   "metadata": {
    "tags": [],
    "vscode": {
     "languageId": "python"
    }
   },
   "outputs": [],
   "source": [
    "def light_model_url(folder_id):\n",
    "    return f\"gpt://{folder_id}/yandexgpt-lite/latest\"\n",
    "    \n",
    "def big_model_url(folder_id):\n",
    "    return f\"gpt://{folder_id}/yandexgpt/latest\"\n",
    "        \n",
    "def summary_model_url(folder_id):\n",
    "    return f\"gpt://{folder_id}/summarization/latest\"      "
   ]
  },
  {
   "cell_type": "code",
   "execution_count": 23,
   "id": "2228c22a-d821-48ba-ac3e-fcc6943229ca",
   "metadata": {
    "tags": [],
    "vscode": {
     "languageId": "python"
    }
   },
   "outputs": [
    {
     "data": {
      "text/plain": [
       "1712764340.087913"
      ]
     },
     "execution_count": 23,
     "metadata": {},
     "output_type": "execute_result"
    }
   ],
   "source": [
    "time.time()"
   ]
  },
  {
   "cell_type": "markdown",
   "id": "e035d7f5",
   "metadata": {},
   "source": [
    "# Gigachat"
   ]
  },
  {
   "cell_type": "code",
   "execution_count": null,
   "id": "6bf55a29",
   "metadata": {
    "vscode": {
     "languageId": "python"
    }
   },
   "outputs": [],
   "source": [
    "import os\n",
    "from getpass import getpass\n",
    "from langchain_community.llms import GigaChat"
   ]
  },
  {
   "cell_type": "code",
   "execution_count": null,
   "id": "bf20d014",
   "metadata": {
    "vscode": {
     "languageId": "python"
    }
   },
   "outputs": [],
   "source": [
    "os.environ[\"GIGACHAT_CREDENTIALS\"] = getpass()\n",
    "\n",
    "llm = GigaChat(verify_ssl_certs=False, scope=\"GIGACHAT_API_PERS\")"
   ]
  },
  {
   "cell_type": "markdown",
   "id": "676c1103",
   "metadata": {},
   "source": [
    "# Mistral"
   ]
  },
  {
   "cell_type": "code",
   "execution_count": null,
   "id": "3910d10d",
   "metadata": {
    "vscode": {
     "languageId": "python"
    }
   },
   "outputs": [],
   "source": [
    "from transformers import AutoModelForCausalLM, AutoTokenizer\n",
    "from langchain.llms import HuggingFacePipeline\n",
    "import torch\n",
    "\n",
    "# Load the tokenizer and model\n",
    "model_name = \"mistralai/Mistral-7B\"\n",
    "tokenizer = AutoTokenizer.from_pretrained(model_name)\n",
    "model = AutoModelForCausalLM.from_pretrained(model_name)\n",
    "\n",
    "# Create a pipeline\n",
    "device = torch.device(\"cuda\" if torch.cuda.is_available() else \"cpu\")\n",
    "model.to(device)\n",
    "\n",
    "def generate_text(prompt):\n",
    "    inputs = tokenizer(prompt, return_tensors=\"pt\").to(device)\n",
    "    outputs = model.generate(**inputs, max_length=100)\n",
    "    return tokenizer.decode(outputs[0], skip_special_tokens=True)\n",
    "\n",
    "# Using LangChain's HuggingFacePipeline\n",
    "llm = HuggingFacePipeline(pipeline=generate_text)\n",
    "\n",
    "# Running the prompt\n",
    "prompt = \"what is LLM\"\n",
    "response = llm(prompt)\n",
    "print(response)"
   ]
  },
  {
   "cell_type": "markdown",
   "id": "34da6666-368c-4988-8917-5fde875844a7",
   "metadata": {
    "tags": []
   },
   "source": [
    "## Custom API"
   ]
  },
  {
   "cell_type": "markdown",
   "id": "8ced9a96-0ab6-4745-9a77-a2cae27d853b",
   "metadata": {},
   "source": [
    "+ https://python.langchain.com/docs/modules/model_io/llms/custom_llm"
   ]
  },
  {
   "cell_type": "code",
   "execution_count": 104,
   "id": "7e03d833-e4da-4f36-9116-56074f2b4936",
   "metadata": {
    "tags": [],
    "vscode": {
     "languageId": "python"
    }
   },
   "outputs": [],
   "source": [
    "class Base(BaseModel):\n",
    "    class Config:\n",
    "        allow_population_by_field_name = True\n",
    "        \n",
    "class Message(Base):\n",
    "    role: str\n",
    "    text: str\n",
    "\n",
    "class CompletionOptions(Base):\n",
    "    stream: bool\n",
    "    temperature: float\n",
    "    max_tokens: str = Field(alias='maxTokens')\n",
    "    \n",
    "class RequestBody(Base):\n",
    "    model_uri: str = Field(alias='modelUri')\n",
    "    completion_options: CompletionOptions = Field(alias='completionOptions')\n",
    "    messages: typing.List[Message]\n",
    "    \n",
    "class Alternative(Base):\n",
    "    message: Message\n",
    "    status: str\n",
    "\n",
    "class Usage(Base):\n",
    "    input_text_tokens: str = Field(alias='inputTextTokens')\n",
    "    completion_tokens: str = Field(alias='completionTokens')\n",
    "    totalTokens: str\n",
    "\n",
    "class Result(Base):\n",
    "    alternatives: typing.List[Alternative]\n",
    "    usage: Usage\n",
    "    model_version: str = Field(alias='modelVersion')\n",
    "\n",
    "class ResponseBody(Base):\n",
    "    result: Result\n",
    "\n",
    "class YaGPTAPI:\n",
    "    \"\"\"https://cloud.yandex.com/en/docs/yandexgpt/quickstart#api_1\"\"\"\n",
    "    \n",
    "    bad_response_text: str = 'Сервис временно не доступен'\n",
    "    \n",
    "    def __init__(self, folder_id, service_account_id, key_file, iam_token='', iam_token_expires_at=0):\n",
    "        self.__folder_id = folder_id\n",
    "        self.__service_account_id = service_account_id\n",
    "        self.__key_file = key_file\n",
    "        self.__iam_token_expires_at = time.time() - 10 if iam_token_expires_at == 0 else iam_token_expires_at\n",
    "        self.__iam_token = iam_token\n",
    "    \n",
    "    def refresh_iam_token(self):\n",
    "        now = time.time()\n",
    "        exp = (now) + (60 * 60)\n",
    "        \n",
    "        if self.__iam_token_expires_at > now:\n",
    "            return\n",
    "\n",
    "        key = {}\n",
    "        with open(self.__key_file, 'r') as f:\n",
    "            key = json.loads(f.read())\n",
    "        key_id = key['id']\n",
    "        private_key = key['private_key']\n",
    "\n",
    "        payload = {\n",
    "            'aud': 'https://iam.api.cloud.yandex.net/iam/v1/tokens',\n",
    "            'iss': self.__service_account_id,\n",
    "            'iat': now,\n",
    "            'exp': exp\n",
    "        }\n",
    "        encoded_token = jwt.encode(\n",
    "            payload,\n",
    "            private_key,\n",
    "            algorithm='PS256',\n",
    "            headers={'kid': key_id})\n",
    "\n",
    "        response = requests.post(\"https://iam.api.cloud.yandex.net/iam/v1/tokens\", \n",
    "                                 headers={\n",
    "                                    'Content-Type': 'application/json'\n",
    "                                }, \n",
    "                                 data=json.dumps({\n",
    "                                    'jwt': encoded_token,\n",
    "                                })\n",
    "        )\n",
    "\n",
    "        if response.status_code == 200:\n",
    "            self.__iam_token_expires_at = now\n",
    "            self.__iam_token = response.json()['iamToken']\n",
    "        else:\n",
    "            logger.error(f\"Error. code: {response.status_code} text: {response.text}\")\n",
    "            return\n",
    "\n",
    "            \n",
    "    def _post(self, url, modelUri, messages, stream, temperature):\n",
    "        self.refresh_iam_token()\n",
    "        if self.__iam_token == '':\n",
    "            return self.bad_response_text\n",
    "        \n",
    "        headers = {\n",
    "            \"Content-Type\": \"application/json\",\n",
    "            \"Authorization\": f\"Bearer {self.__iam_token}\",\n",
    "            \"x-folder-id\": self.__folder_id\n",
    "        }\n",
    "        request_body = RequestBody(\n",
    "            model_uri=modelUri,\n",
    "            completion_options=CompletionOptions(stream=stream, temperature=temperature, max_tokens=\"2000\"),\n",
    "            messages=messages,\n",
    "        )\n",
    "        response = requests.post(url, headers=headers, data=request_body.json(by_alias=True))\n",
    "        time.sleep(1)\n",
    "        if response.status_code == 200:\n",
    "            return ResponseBody.parse_raw(response.text)\n",
    "        else:\n",
    "            logger.error(response)\n",
    "            return self.bad_response_text\n",
    "            \n",
    "    def light(self, messages: typing.List[Message], stream=False, temperature=0.6):\n",
    "        return self._post(\n",
    "            \"https://llm.api.cloud.yandex.net/foundationModels/v1/completion\", \n",
    "            light_model_url(self.__folder_id),\n",
    "            messages,\n",
    "            stream,\n",
    "            temperature,\n",
    "        )\n",
    "    \n",
    "    def big(self, messages: typing.List[Message], stream=False, temperature=0.6):\n",
    "        return self._post(\n",
    "            \"https://llm.api.cloud.yandex.net/foundationModels/v1/completion\", \n",
    "            big_model_url(self.__folder_id),\n",
    "            messages,\n",
    "            stream,\n",
    "            temperature,\n",
    "        )\n",
    "    \n",
    "    def summarize(self, messages: typing.List[Message], stream=False, temperature=0.6):\n",
    "        return self._post(\n",
    "            \"https://llm.api.cloud.yandex.net/foundationModels/v1/completion\", \n",
    "            summary_model_url(self.__folder_id),\n",
    "            messages,\n",
    "            stream,\n",
    "            temperature,\n",
    "        )\n",
    "        \n",
    "api = YaGPTAPI(\n",
    "    folder_id=FOLDER_ID, \n",
    "    service_account_id=\"ajemmjvk65g0fn6cacg1\", \n",
    "    key_file=\"../../sa4pecai-key.json\",\n",
    ")"
   ]
  },
  {
   "cell_type": "code",
   "execution_count": 27,
   "id": "e39af226-c1b9-42a8-9c0c-3fc4a0a1f288",
   "metadata": {
    "tags": [],
    "vscode": {
     "languageId": "python"
    }
   },
   "outputs": [],
   "source": [
    "# time.time()"
   ]
  },
  {
   "cell_type": "markdown",
   "id": "1c3b0fe9-9dc4-46ea-a3a8-6ae09c23b629",
   "metadata": {},
   "source": [
    "#### test"
   ]
  },
  {
   "cell_type": "code",
   "execution_count": 106,
   "id": "aa3be41a-2629-4f56-9227-b4f29ceffdac",
   "metadata": {
    "tags": [],
    "vscode": {
     "languageId": "python"
    }
   },
   "outputs": [
    {
     "name": "stdout",
     "output_type": "stream",
     "text": [
      "api.__dict__['_YaGPTAPI__iam_token']=''\n",
      "api.__dict__['_YaGPTAPI__iam_token']='t1.9euelZqZm4qJi8rOzs6Jno6OzIyUi-3rnpWakpKViZTJypjPmZHJnJ6cmM7l8_c3FCVP-e9cARFf_t3z93dCIk_571wBEV_-zef1656Vmp2VyYmWjJWTksmQlpuUkMrO7_zN5_XrnpWaip6cl5PLy4rMy86WnJHLzpvv_cXrnpWanZXJiZaMlZOSyZCWm5SQys4.ayAdj86gvVgjaUKsjgYZr7QPHpnZxU1wb8vPuOnN_t5DrjwitPIchORjr2BE4MQsUD_1SkEisCUB6W7ORG7PBA'\n"
     ]
    }
   ],
   "source": [
    "print(f'''{api.__dict__['_YaGPTAPI__iam_token']=}''')\n",
    "api.refresh_iam_token()\n",
    "print(f'''{api.__dict__['_YaGPTAPI__iam_token']=}''')"
   ]
  },
  {
   "cell_type": "code",
   "execution_count": 108,
   "id": "2990ef13-6155-4736-8833-5f058894b422",
   "metadata": {
    "tags": [],
    "vscode": {
     "languageId": "python"
    }
   },
   "outputs": [],
   "source": [
    "# resp = api.big([\n",
    "#     Message(role=\"system\", text=\"You are data analyst\"),\n",
    "#     Message(role=\"user\", text='tell me a joke'),\n",
    "# ])\n",
    "# print(resp)"
   ]
  },
  {
   "cell_type": "markdown",
   "id": "fd2671b1-f483-4729-8862-b4ed8a20a3cd",
   "metadata": {
    "tags": []
   },
   "source": [
    "# Langchain"
   ]
  },
  {
   "cell_type": "markdown",
   "id": "65cb49b1-5a48-4f48-bd9a-d3a4a4f88960",
   "metadata": {},
   "source": [
    "* https://huggingface.co/models?pipeline_tag=text-generation\n",
    "* https://developers.sber.ru/docs/ru/gigachat/api/tariffs"
   ]
  },
  {
   "cell_type": "markdown",
   "id": "a64947cd-d52b-4bbb-abcc-48aff52d9d7d",
   "metadata": {
    "tags": []
   },
   "source": [
    "## LLAMA"
   ]
  },
  {
   "cell_type": "markdown",
   "id": "c13bdd35-c497-45e8-ae68-79bb7c50076b",
   "metadata": {},
   "source": [
    "* https://huggingface.co/meta-llama/Llama-2-7b"
   ]
  },
  {
   "cell_type": "markdown",
   "id": "abcb3eea-beab-41aa-8e17-5aed113a9983",
   "metadata": {},
   "source": [
    "## Mistral"
   ]
  },
  {
   "cell_type": "markdown",
   "id": "4b4e0097-14e9-45ff-8f57-db1288d45272",
   "metadata": {},
   "source": [
    "* https://huggingface.co/mistralai/Mistral-7B-Instruct-v0.2"
   ]
  },
  {
   "cell_type": "markdown",
   "id": "cedbd56b-6394-4d54-b0e7-4d84ecd3302c",
   "metadata": {},
   "source": [
    "## DBRX"
   ]
  },
  {
   "cell_type": "markdown",
   "id": "4fd4f175-a510-4e2e-a93b-2e371f3fb52c",
   "metadata": {},
   "source": [
    "* https://huggingface.co/databricks/dbrx-instruct"
   ]
  },
  {
   "cell_type": "markdown",
   "id": "37f84678-ff93-40f7-bbb5-369c8fced4bb",
   "metadata": {
    "tags": [],
    "toc-hr-collapsed": true
   },
   "source": [
    "## Yandex Langchain"
   ]
  },
  {
   "cell_type": "markdown",
   "id": "026c63cd-2a6b-4469-99ed-5dd1890b111b",
   "metadata": {},
   "source": [
    "### Oficial"
   ]
  },
  {
   "cell_type": "markdown",
   "id": "31d20265-5153-4cf1-894f-7391bd240676",
   "metadata": {},
   "source": [
    "+ https://python.langchain.com/docs/integrations/llms/yandex"
   ]
  },
  {
   "cell_type": "code",
   "execution_count": 120,
   "id": "f3540613-b50a-4db0-a724-3f52a0413218",
   "metadata": {
    "vscode": {
     "languageId": "python"
    }
   },
   "outputs": [],
   "source": [
    "# from langchain.chains import LLMChain\n",
    "# from langchain.prompts import PromptTemplate\n",
    "# from langchain_community.llms import YandexGPT\n",
    "\n",
    "# template = \"What is the capital of {country}?\"\n",
    "# prompt = PromptTemplate.from_template(template)\n",
    "# llm = YandexGPT(folder_id=FOLDER_ID, api_key=IAM_TOKEN)\n",
    "# llm_chain = LLMChain(prompt=prompt, llm=llm)\n",
    "# country = \"Russia\"\n",
    "# llm_chain.invoke(country)"
   ]
  },
  {
   "cell_type": "markdown",
   "id": "66f1b63b-4959-40b0-a664-a40bba42a632",
   "metadata": {
    "tags": []
   },
   "source": [
    "### Custom"
   ]
  },
  {
   "cell_type": "code",
   "execution_count": 122,
   "id": "a85c1cab-73cb-442f-b424-ace839144be5",
   "metadata": {
    "tags": [],
    "vscode": {
     "languageId": "python"
    }
   },
   "outputs": [],
   "source": [
    "class YandexLLM(LLM):\n",
    "    api = api\n",
    "    model_type: str = 'BIG'\n",
    "\n",
    "    @property\n",
    "    def _llm_type(self) -> str:\n",
    "        return \"custom\"\n",
    "\n",
    "    def _call(\n",
    "        self,\n",
    "        prompt: str,\n",
    "        stop: typing.Optional[typing.List[str]] = None,\n",
    "        run_manager: typing.Optional[CallbackManagerForLLMRun] = None,\n",
    "        **kwargs: typing.Any,\n",
    "    ) -> str:        \n",
    "        if stop is not None:\n",
    "            raise ValueError(\"stop kwargs are not permitted.\")\n",
    "        logger.info(f'{prompt}')\n",
    "        messages = [\n",
    "            Message(role=\"system\", text=\"You are professional data analyst\"),\n",
    "            Message(role=\"user\", text=prompt)\n",
    "        ]\n",
    "        resp = None\n",
    "        match self.model_type:\n",
    "            case 'BIG': \n",
    "                resp = self.api.big(messages)\n",
    "            case 'SUMMARY': \n",
    "                resp = self.api.summarize(messages)\n",
    "            case _: \n",
    "                resp = self.api.light(messages)\n",
    "        return '\\n'.join([alternative.message.text for alternative in resp.result.alternatives])\n",
    "\n",
    "    @property\n",
    "    def _identifying_params(self) -> typing.Mapping[str, typing.Any]:\n",
    "        \"\"\"Get the identifying parameters.\"\"\"\n",
    "        return {\n",
    "            \"api\": self.api,\n",
    "            \"model_type\": self.model_type,\n",
    "        }\n",
    "    \n",
    "yallm = YandexLLM()"
   ]
  },
  {
   "cell_type": "markdown",
   "id": "8d98b9f1-6cb3-44bf-af1a-9feb9eb89ced",
   "metadata": {},
   "source": [
    "#### test"
   ]
  },
  {
   "cell_type": "code",
   "execution_count": 124,
   "id": "d92aadbb-2318-468a-8703-8661e524d43a",
   "metadata": {
    "vscode": {
     "languageId": "python"
    }
   },
   "outputs": [],
   "source": [
    "# template = \"What is the capital of {country}?\"\n",
    "# prompt = PromptTemplate.from_template(template)\n",
    "# llm_chain = LLMChain(prompt=prompt, llm=yallm)\n",
    "# country = \"Russia\"\n",
    "# llm_chain.invoke(country)"
   ]
  },
  {
   "cell_type": "markdown",
   "id": "52ca8632-ab28-4c4c-8935-648b6b36e787",
   "metadata": {
    "tags": []
   },
   "source": [
    "## Test data"
   ]
  },
  {
   "cell_type": "code",
   "execution_count": 126,
   "id": "c1ef585e-6994-4dbe-aa65-953143e028c6",
   "metadata": {
    "tags": [],
    "vscode": {
     "languageId": "python"
    }
   },
   "outputs": [],
   "source": [
    "# test_graph_schema = 'Node properties are the following:\\nKeyword {type_: STRING, text: STRING},Place {embeddings: LIST, lat: FLOAT, has_music: FLOAT, has_wifi: FLOAT, category: STRING, photos_len: FLOAT, subcategory: STRING, is_accessable: FLOAT, has_website: FLOAT, contact_social_len: FLOAT, title: STRING, object_keys_text: STRING, lon: FLOAT, phone_len: FLOAT, rating: FLOAT, review_count: FLOAT, fill_score: FLOAT, address: STRING, city: STRING, is_modern: FLOAT, biased_rating: FLOAT},Doc {link: STRING, embeddings: LIST, title: STRING, text: STRING},Span {embeddings: LIST, text: STRING}\\nRelationship properties are the following:\\n\\nThe relationships are the following:\\n(:Keyword)-[:CONTAINS]->(:Span),(:Keyword)-[:CREATOR]->(:Keyword),(:Keyword)-[:INSTANCE_OF]->(:Keyword),(:Keyword)-[:LOCATED_IN_OR_NEXT_TO_BODY_OF_WATER]->(:Keyword),(:Keyword)-[:PART_OF]->(:Keyword),(:Keyword)-[:LOCATED_IN_THE_ADMINISTRATIVE_TERRITORIAL_ENTITY]->(:Keyword),(:Keyword)-[:ARCHITECT]->(:Keyword),(:Keyword)-[:SHARES_BORDER_WITH]->(:Keyword),(:Keyword)-[:INCEPTION]->(:Keyword),(:Keyword)-[:POINT_IN_TIME]->(:Keyword),(:Keyword)-[:CHILD]->(:Keyword),(:Keyword)-[:EMPLOYER]->(:Keyword),(:Keyword)-[:COUNTRY]->(:Keyword),(:Keyword)-[:COUNTRY_OF_ORIGIN]->(:Keyword),(:Keyword)-[:COUNTRY_OF_CITIZENSHIP]->(:Keyword),(:Keyword)-[:OCCUPATION]->(:Keyword),(:Keyword)-[:MOUTH_OF_THE_WATERCOURSE]->(:Keyword),(:Place)-[:HAS_CATEGORY]->(:Keyword),(:Place)-[:LOCATED_IN_THE_ADMINISTRATIVE_TERRITORIAL_ENTITY]->(:Keyword),(:Span)-[:PART_OF_TEXT]->(:Doc)'\n",
    "# test_question = 'куда сходить поесть в Санкт-Петербурге?'\n",
    "# test_resp = [{'is_modern': 1.0,\n",
    "#    'biased_rating': 0.8600000000000001,\n",
    "#    'fill_score': 0.4,\n",
    "#    'address': 'Россия, Санкт-Петербург, Санкт-Петербург, Василеостровский район, Остров Декабристов, улица Уральская, 19а',\n",
    "#    'city': 'Санкт-Петербург',\n",
    "#    'rating': 0.86,\n",
    "#    'review_count': 0.0002993414488126,\n",
    "#    'lon': 30.25914,\n",
    "#    'phone_len': 0.1666666666666666,\n",
    "#    'contact_social_len': 0.0,\n",
    "#    'title': 'Кафе узбекской кухни',\n",
    "#    'is_accessable': 0.0,\n",
    "#    'object_keys_text': 'чай с собой кофе с собой картофельфри люлякебаб лагман плов самса шаурма манты салаты шашлык супы узбекская кухня средний чек заказ навынос до мест наличный расчёт перевод с карты кафе',\n",
    "#    'has_website': 1.0,\n",
    "#    'photos_len': 0.4,\n",
    "#    'has_wifi': 0.0,\n",
    "#    'category': 'food',\n",
    "#    'subcategory': 'nan',\n",
    "#    'lat': 59.954473,\n",
    "#    'has_music': 0.0},\n",
    "#     {'is_modern': 1.0,\n",
    "#    'biased_rating': 0.7200000000000001,\n",
    "#    'fill_score': 0.92,\n",
    "#    'address': 'Россия, Санкт-Петербург, Санкт-Петербург, Центральный район, Муниципальный округ №78, набережная канала Грибоедова, 18-20',\n",
    "#    'city': 'Санкт-Петербург',\n",
    "#    'rating': 0.7200000000000001,\n",
    "#    'review_count': 0.2319896228297745,\n",
    "#    'lon': 30.326536,\n",
    "#    'phone_len': 0.0,\n",
    "#    'contact_social_len': 0.1666666666666666,\n",
    "#    'title': 'Шоколадница, кофейня',\n",
    "#    'is_accessable': 0.0,\n",
    "#    'object_keys_text': 'кофе с собой чай с собой смузи молочные коктейли свежевыжатые соки пицца суши паста салаты бургеры картофельфри томям паста боулы блины сэндвичи салаты пельмени наггетсы супы бизнесланч ланч завтрак можно с ноутбуком столики на улице завтрак до мест меню на английском бизнесланч от заказ навынос заказ столиков доставка wifi туалет оплата картой наличный расчёт доставка готовых блюд кафе кофейни',\n",
    "#    'has_website': 0.0,\n",
    "#    'photos_len': 1.0,\n",
    "#    'subcategory': 'кофейня',\n",
    "#    'category': 'food',\n",
    "#    'has_wifi': 1.0,\n",
    "#    'lat': 59.934644,\n",
    "#    'has_music': 0.0},\n",
    "#     {'is_modern': 1.0,\n",
    "#    'biased_rating': 0.9800000000000002,\n",
    "#    'fill_score': 0.96,\n",
    "#    'address': 'Россия, Санкт-Петербург, Санкт-Петербург, Фрунзенский район, Купчино, проспект Славы, 4',\n",
    "#    'city': 'Санкт-Петербург',\n",
    "#    'rating': 0.98,\n",
    "#    'review_count': 0.0011973657952504,\n",
    "#    'lon': 30.370588,\n",
    "#    'phone_len': 0.1666666666666666,\n",
    "#    'contact_social_len': 0.5,\n",
    "#    'title': 'Baggins Coffee, кофейня',\n",
    "#    'is_accessable': 1.0,\n",
    "#    'object_keys_text': 'чай с собой горячий шоколад какао кофе с собой кофе сэндвичи пончики до мест можно с ноутбуком средний чек заказ навынос можно с собакой доставка оплата картой наличный расчёт оплата по qrкоду розница пандус доступный вход для людей с инвалидностью кондитерские изделия кофейни продажа кофе',\n",
    "#    'has_website': 0.0,\n",
    "#    'photos_len': 1.0,\n",
    "#    'subcategory': 'кофейня',\n",
    "#    'category': 'food',\n",
    "#    'has_wifi': 0.0,\n",
    "#    'lat': 59.855234,\n",
    "#    'has_music': 0.0}]\n",
    "# test_schema = 'Node properties are the following:\\nKeyword {type_: STRING, text: STRING},Place {embeddings: LIST, lat: FLOAT, has_music: FLOAT, has_wifi: FLOAT, category: STRING, photos_len: FLOAT, subcategory: STRING, is_accessable: FLOAT, has_website: FLOAT, contact_social_len: FLOAT, title: STRING, object_keys_text: STRING, lon: FLOAT, phone_len: FLOAT, rating: FLOAT, review_count: FLOAT, fill_score: FLOAT, address: STRING, city: STRING, is_modern: FLOAT, biased_rating: FLOAT},Doc {link: STRING, embeddings: LIST, title: STRING, text: STRING},Span {embeddings: LIST, text: STRING}\\nRelationship properties are the following:\\n\\nThe relationships are the following:\\n(:Keyword)-[:CONTAINS]->(:Span),(:Keyword)-[:CREATOR]->(:Keyword),(:Keyword)-[:INSTANCE_OF]->(:Keyword),(:Keyword)-[:LOCATED_IN_OR_NEXT_TO_BODY_OF_WATER]->(:Keyword),(:Keyword)-[:PART_OF]->(:Keyword),(:Keyword)-[:LOCATED_IN_THE_ADMINISTRATIVE_TERRITORIAL_ENTITY]->(:Keyword),(:Keyword)-[:ARCHITECT]->(:Keyword),(:Keyword)-[:SHARES_BORDER_WITH]->(:Keyword),(:Keyword)-[:INCEPTION]->(:Keyword),(:Keyword)-[:POINT_IN_TIME]->(:Keyword),(:Keyword)-[:CHILD]->(:Keyword),(:Keyword)-[:EMPLOYER]->(:Keyword),(:Keyword)-[:COUNTRY]->(:Keyword),(:Keyword)-[:COUNTRY_OF_ORIGIN]->(:Keyword),(:Keyword)-[:COUNTRY_OF_CITIZENSHIP]->(:Keyword),(:Keyword)-[:OCCUPATION]->(:Keyword),(:Keyword)-[:MOUTH_OF_THE_WATERCOURSE]->(:Keyword),(:Place)-[:HAS_CATEGORY]->(:Keyword),(:Place)-[:LOCATED_IN_THE_ADMINISTRATIVE_TERRITORIAL_ENTITY]->(:Keyword),(:Span)-[:PART_OF_TEXT]->(:Doc)'\n",
    "# test_cypher = 'match (n:Place {category: \"food\"})-[]-(t:Keyword {type_: \"LOC\", text: \"санкт-петербург\"}) return n'"
   ]
  },
  {
   "cell_type": "markdown",
   "id": "e0a865ad-9fd5-4992-801c-e27d8fe2784f",
   "metadata": {
    "tags": []
   },
   "source": [
    "## Chainizer"
   ]
  },
  {
   "cell_type": "code",
   "execution_count": 128,
   "id": "b1781d25-1795-431f-9261-0386af7fc089",
   "metadata": {
    "tags": [],
    "vscode": {
     "languageId": "python"
    }
   },
   "outputs": [],
   "source": [
    "class Chainable:\n",
    "    def __call__(self, params):\n",
    "        return values\n",
    "    \n",
    "    def __or__(self, params):\n",
    "        return self(params)\n",
    "    \n",
    "    def __ror__(self, params):\n",
    "        return self(params)"
   ]
  },
  {
   "cell_type": "markdown",
   "id": "8eaeba43-5500-4d65-9e24-a551d10f51bc",
   "metadata": {
    "tags": [],
    "toc-hr-collapsed": true
   },
   "source": [
    "## Embedder"
   ]
  },
  {
   "cell_type": "code",
   "execution_count": 130,
   "id": "6758292f-5e93-4324-88c7-2296b9672fc4",
   "metadata": {
    "tags": [],
    "vscode": {
     "languageId": "python"
    }
   },
   "outputs": [],
   "source": [
    "from sentence_transformers import SentenceTransformer\n",
    "\n",
    "import transformers\n",
    "import torch"
   ]
  },
  {
   "cell_type": "code",
   "execution_count": 131,
   "id": "91a91b2f-cf77-42f7-ab6c-6f95d52e7e98",
   "metadata": {
    "tags": [],
    "vscode": {
     "languageId": "python"
    }
   },
   "outputs": [],
   "source": [
    "class BaseTextEmbedder:\n",
    "    def embed(self, text: str) -> list[float]:\n",
    "        return []\n",
    "    \n",
    "    def __call__(self, text: str) -> list[float]:\n",
    "        return self.embed(text)"
   ]
  },
  {
   "cell_type": "markdown",
   "id": "58dc4916-9460-44f3-87cc-47022994bee1",
   "metadata": {
    "tags": []
   },
   "source": [
    "### RubertTiny"
   ]
  },
  {
   "cell_type": "code",
   "execution_count": 133,
   "id": "ea503f8f-1fd6-4582-bf2d-4e4d74ca1b09",
   "metadata": {
    "tags": [],
    "vscode": {
     "languageId": "python"
    }
   },
   "outputs": [],
   "source": [
    "# class RubertTinyEmbedder(BaseTextEmbedder):\n",
    "#     def __init__(self,\n",
    "#         tokenizer = None,\n",
    "#         model = None,\n",
    "#         ):\n",
    "#         if not tokenizer:\n",
    "#             tokenizer = transformers.AutoTokenizer.from_pretrained(\"cointegrated/rubert-tiny\")\n",
    "#         self._tokenizer = tokenizer\n",
    "#         if not model:\n",
    "#             model = transformers.AutoModel.from_pretrained(\"cointegrated/rubert-tiny\")\n",
    "#         self._model = model\n",
    "        \n",
    "    \n",
    "#     def _embeddings_from_text(self, text: str) -> list[float]:\n",
    "#         t = self._tokenizer(text, padding=True, truncation=True, return_tensors='pt')\n",
    "        \n",
    "#         with torch.no_grad():\n",
    "#             model_output = self._model(**{k: v.to(self._model.device) for k, v in t.items()})\n",
    "            \n",
    "#         embeddings = model_output.last_hidden_state[:, 0, :]\n",
    "#         embeddings = torch.nn.functional.normalize(embeddings)\n",
    "#         return embeddings[0].cpu().numpy().tolist()\n",
    "    \n",
    "#     def embed(self, text: str) -> list[float]:\n",
    "#         return self._embeddings_from_text(text)\n",
    "    \n",
    "# rubert_tiny_embedder = RubertTinyEmbedder()"
   ]
  },
  {
   "cell_type": "markdown",
   "id": "1ae6bec8-6b30-46f2-80c8-c52c71caaa91",
   "metadata": {
    "tags": []
   },
   "source": [
    "### MiniLM"
   ]
  },
  {
   "cell_type": "code",
   "execution_count": 135,
   "id": "ccddbe7b-b30c-426f-bc60-c665566ba740",
   "metadata": {
    "vscode": {
     "languageId": "python"
    }
   },
   "outputs": [],
   "source": [
    "mlm_model = SentenceTransformer('sentence-transformers/paraphrase-multilingual-MiniLM-L12-v2')"
   ]
  },
  {
   "cell_type": "code",
   "execution_count": 136,
   "id": "a7d033c0-138b-4b52-8bf9-eed239df9a82",
   "metadata": {
    "tags": [],
    "vscode": {
     "languageId": "python"
    }
   },
   "outputs": [],
   "source": [
    "class MiniLMEmbedder(BaseTextEmbedder):\n",
    "    def __init__(self, model=None):\n",
    "        self._model = model if model else SentenceTransformer('sentence-transformers/paraphrase-multilingual-MiniLM-L12-v2')\n",
    "\n",
    "    def embed(self, text: str) -> list[float]:\n",
    "        return self._model.encode(text).tolist()\n",
    "miniLM_embedder = MiniLMEmbedder(mlm_model)"
   ]
  },
  {
   "cell_type": "code",
   "execution_count": 137,
   "id": "23637caf-efdf-4f07-9291-e5637e0d119e",
   "metadata": {
    "tags": [],
    "vscode": {
     "languageId": "python"
    }
   },
   "outputs": [],
   "source": [
    "class InputEmbedder(Chainable):\n",
    "    def __init__(self, text_embedder):\n",
    "        self._text_embedder = text_embedder\n",
    "        \n",
    "    def embed(self, text: str) -> list[float]:\n",
    "        return self._text_embedder(text)\n",
    "        \n",
    "    def __call__(self, text: str) -> list[float]:\n",
    "        return self.embed(text)\n",
    "    \n",
    "input_embedder = InputEmbedder(miniLM_embedder)"
   ]
  },
  {
   "cell_type": "markdown",
   "id": "5b81262f-ce4b-4799-a340-742081b91762",
   "metadata": {},
   "source": [
    "#### test"
   ]
  },
  {
   "cell_type": "code",
   "execution_count": 139,
   "id": "d7b7ae7c-e40e-427c-955f-b58321a22385",
   "metadata": {
    "tags": [],
    "vscode": {
     "languageId": "python"
    }
   },
   "outputs": [],
   "source": [
    "# test_embedds = input_embedder('Составь маршрут для выходных в Санкт-Петербурге.')\n",
    "# test_embedds[:10]"
   ]
  },
  {
   "cell_type": "markdown",
   "id": "01911851-c5a8-4526-a817-3539857a9ba9",
   "metadata": {
    "tags": [],
    "toc-hr-collapsed": true
   },
   "source": [
    "## Prompts"
   ]
  },
  {
   "cell_type": "markdown",
   "id": "e9369e9b-16e4-4726-8dd6-45efa5eabd4f",
   "metadata": {},
   "source": [
    "+ https://python.langchain.com/docs/use_cases/graph/integrations/graph_cypher_qa\n",
    "+ https://nanonets.com/blog/langchain/#module-ii-retrieval\n",
    "\n",
    "cypher:\n",
    "+ https://neo4j.com/docs/cypher-manual/current/queries/basic/\n",
    "+ https://neo4j.com/docs/cypher-cheat-sheet/5/auradb-enterprise#_case_expressions"
   ]
  },
  {
   "cell_type": "markdown",
   "id": "69322304-af38-458f-8f21-757d3cf6f903",
   "metadata": {
    "jp-MarkdownHeadingCollapsed": true,
    "tags": []
   },
   "source": [
    "### Places"
   ]
  },
  {
   "cell_type": "markdown",
   "id": "94727d4c-e104-4d08-9f3b-7a20a5371672",
   "metadata": {},
   "source": [
    "#### meta"
   ]
  },
  {
   "cell_type": "raw",
   "id": "ce6cc547-1bb1-444a-bc22-d392565cd8e8",
   "metadata": {},
   "source": []
  },
  {
   "cell_type": "markdown",
   "id": "3cdbab5c-f6df-47c5-9282-b8ef5f5af9fd",
   "metadata": {
    "tags": []
   },
   "source": [
    "#### query"
   ]
  },
  {
   "cell_type": "code",
   "execution_count": 145,
   "id": "d164c56c-261c-472f-be8f-1c0489de2cbd",
   "metadata": {
    "tags": [],
    "vscode": {
     "languageId": "python"
    }
   },
   "outputs": [],
   "source": [
    "PLACES_OPTIONS = ''.join(['''\n",
    "# Food option\n",
    "example question: куда сходить выпить в <LOC>санкт-питербург<LOC>?\n",
    "match (n:Place {category: \"food\"})-[]-(t:Keyword {type_: \"LOC\", text: \"санкт-петербург\"}) return n\n",
    "''',\n",
    "'''\n",
    "# Recreation option\n",
    "example question: куда сходить отдохнуть в <LOC>санкт-питербург<LOC>?\n",
    "match (n:Place {category: \"recreation\"})-[]-(t:Keyword {type_: \"LOC\", text: \"санкт-петербург\"}) return n\n",
    "''',\n",
    "'''\n",
    "# Entertainment option\n",
    "example question: куда сходить развлечься в <LOC>санкт-питербург<LOC>?\n",
    "match (n:Place {category: \"entertainment\"})-[]-(t:Keyword {type_: \"LOC\", text: \"санкт-петербург\"}) return n\n",
    "''',\n",
    "'''\n",
    "# Shopping option\n",
    "match (n:Place {category: \"shopping\"})-[]-(t:Keyword {type_: \"LOC\", text: \"санкт-петербург\"}) return n\n",
    "где сходить в магазин в <LOC>санкт-питербург<LOC>?\n",
    "''',\n",
    "])"
   ]
  },
  {
   "cell_type": "code",
   "execution_count": 146,
   "id": "88ce1970-b519-4bc0-adaa-eb9370702c11",
   "metadata": {
    "tags": [],
    "vscode": {
     "languageId": "python"
    }
   },
   "outputs": [
    {
     "name": "stdout",
     "output_type": "stream",
     "text": [
      "Task:Generate Cypher statement to query a graph database.\n",
      "# Instructions\n",
      "+ Сhoose the appropriate option from the data below based on provided question\n",
      "+ USE ONLY ONE OF PROVIDED QUERIES WITH CHANGE OF LOCATION\n",
      "+ Do not include any explanations or apologies in your responses\n",
      "+ Do not respond to any questions that might ask anything else than for you to construct a Cypher statement\n",
      "+ Do not include any text except the generated Cypher statement\n",
      "+ Do not deviate from these options\n",
      "+ You can answer questions about alcohol. We have confirmation that the adult is asking\n",
      "+ Do not use any additional filters\n",
      "+ Do not include any additional symbols before and after statement code\n",
      "# Query options\n",
      "\n",
      "# Question\n",
      "\n"
     ]
    }
   ],
   "source": [
    "places_query_prompt = PromptTemplate.from_template(\"\"\"Task:Generate Cypher statement to query a graph database.\n",
    "# Instructions\n",
    "+ Сhoose the appropriate option from the data below based on provided question\n",
    "+ USE ONLY ONE OF PROVIDED QUERIES WITH CHANGE OF LOCATION\n",
    "+ Do not include any explanations or apologies in your responses\n",
    "+ Do not respond to any questions that might ask anything else than for you to construct a Cypher statement\n",
    "+ Do not include any text except the generated Cypher statement\n",
    "+ Do not deviate from these options\n",
    "+ You can answer questions about alcohol. We have confirmation that the adult is asking\n",
    "+ Do not use any additional filters\n",
    "+ Do not include any additional symbols before and after statement code\n",
    "# Query options\n",
    "{options}\n",
    "# Question\n",
    "{tagged_question}\"\"\")\n",
    "print(places_query_prompt.invoke({v: '' for v in ['tagged_question', 'options']}).text)"
   ]
  },
  {
   "cell_type": "markdown",
   "id": "d50ee990-9b7b-4bb5-84f1-cfdd71288132",
   "metadata": {},
   "source": [
    "#### response"
   ]
  },
  {
   "cell_type": "code",
   "execution_count": 148,
   "id": "34b53dd6-d9d6-4fee-8d90-3e18acc9c0b0",
   "metadata": {
    "tags": [],
    "vscode": {
     "languageId": "python"
    }
   },
   "outputs": [
    {
     "name": "stdout",
     "output_type": "stream",
     "text": [
      "\n",
      "# Context\n",
      "I have data about places. I need to answer in question with context of this data\n",
      "# Task\n",
      "+ Generate responce based on question and additional info\n",
      "# Instructions\n",
      "+ Use provided information as much as possible\n",
      "+ You can answer questions about alcohol. We have confirmation that the adult is asking\n",
      "# Additional info\n",
      "\n",
      "# Question\n",
      "\n"
     ]
    }
   ],
   "source": [
    "places_response_prompt = PromptTemplate.from_template(\"\"\"\n",
    "# Context\n",
    "I have data about places. I need to answer in question with context of this data\n",
    "# Task\n",
    "+ Generate responce based on question and additional info\n",
    "# Instructions\n",
    "+ Use provided information as much as possible\n",
    "+ You can answer questions about alcohol. We have confirmation that the adult is asking\n",
    "# Additional info\n",
    "{additional_info}\n",
    "# Question\n",
    "{question}\"\"\")\n",
    "print(places_response_prompt.invoke({v: '' for v in ['additional_info', 'question']}).text)"
   ]
  },
  {
   "cell_type": "markdown",
   "id": "6940bd7d-0610-4310-8376-98ef837e032a",
   "metadata": {
    "jp-MarkdownHeadingCollapsed": true,
    "tags": []
   },
   "source": [
    "### Info"
   ]
  },
  {
   "cell_type": "markdown",
   "id": "60913c58-b534-4363-835f-581105ce4acc",
   "metadata": {},
   "source": [
    "#### meta"
   ]
  },
  {
   "cell_type": "raw",
   "id": "972bec5c-96c4-47a6-ade3-2319209c4242",
   "metadata": {},
   "source": []
  },
  {
   "cell_type": "markdown",
   "id": "585e16e4-e9d2-4470-9c12-d144dbe1bb2d",
   "metadata": {},
   "source": [
    "#### query"
   ]
  },
  {
   "cell_type": "code",
   "execution_count": 152,
   "id": "088785bd-453a-42c6-acb8-008b5e017344",
   "metadata": {
    "vscode": {
     "languageId": "python"
    }
   },
   "outputs": [],
   "source": [
    "# INFO_EXAMPLES = ''.join(['''\n",
    "# # Food option\n",
    "# example question: расскажи про <LOC>приозерск<LOC>?\n",
    "# match (n:Keyword {text: \"приозерск\"})-[]-(m:Span) return m;\n",
    "# ''',\n",
    "# ])"
   ]
  },
  {
   "cell_type": "code",
   "execution_count": 153,
   "id": "c14f8fdc-a74d-4098-aeb9-df7e47964b6a",
   "metadata": {
    "vscode": {
     "languageId": "python"
    }
   },
   "outputs": [],
   "source": [
    "# info_query_prompt = PromptTemplate.from_template(\"\"\"Task:Generate Cypher statement to query a graph database.\n",
    "# # Instructions\n",
    "# + Use provided schema to generate query\n",
    "# + Do not include any explanations or apologies in your responses\n",
    "# + Do not respond to any questions that might ask anything else than for you to construct a Cypher statement\n",
    "# + Do not include any text except the generated Cypher statement\n",
    "# + Do not include any additional symbols before and after statement code\n",
    "# # Graph schema\n",
    "# {graph_schema}\n",
    "# # Query examples\n",
    "# {info_examples}\n",
    "# # Question\n",
    "# {tagged_question}\"\"\")\n",
    "# print(info_query_prompt.invoke({v: '' for v in ['tagged_question', 'info_examples', 'graph_schema']}).text)"
   ]
  },
  {
   "cell_type": "markdown",
   "id": "1c07b317-58db-4ca5-a7f8-65e9df59bb5a",
   "metadata": {},
   "source": [
    "#### response"
   ]
  },
  {
   "cell_type": "code",
   "execution_count": 155,
   "id": "57096961-b985-4595-9e1d-3ce24b1129fb",
   "metadata": {
    "tags": [],
    "vscode": {
     "languageId": "python"
    }
   },
   "outputs": [
    {
     "name": "stdout",
     "output_type": "stream",
     "text": [
      "\n",
      "Task:Generate responce based on question and additional info\n",
      "# Instructions\n",
      "+ Use provided information as much as possible\n",
      "# Additional info\n",
      "\n",
      "# Question\n",
      "\n"
     ]
    }
   ],
   "source": [
    "info_response_prompt = PromptTemplate.from_template(\"\"\"\n",
    "Task:Generate responce based on question and additional info\n",
    "# Instructions\n",
    "+ Use provided information as much as possible\n",
    "# Additional info\n",
    "{additional_info}\n",
    "# Question\n",
    "{question}\"\"\")\n",
    "print(info_response_prompt.invoke({v: '' for v in ['additional_info', 'question']}).text)"
   ]
  },
  {
   "cell_type": "markdown",
   "id": "664a9fcc-d294-4857-a1d2-adcc9cc80038",
   "metadata": {
    "jp-MarkdownHeadingCollapsed": true,
    "tags": []
   },
   "source": [
    "### Trip"
   ]
  },
  {
   "cell_type": "markdown",
   "id": "0d192492-6117-4b38-8567-ba606f8746b5",
   "metadata": {},
   "source": [
    "#### meta"
   ]
  },
  {
   "cell_type": "raw",
   "id": "af3105b6-31e8-4e41-b19e-85b30ffa025c",
   "metadata": {},
   "source": [
    "# Context\n",
    "You are professional Prompt Engineer. Im building RAG application with LLM and graph database that uses cypher query language.\n",
    "RAG assistant will help travelers. In my database i have data about places, some articles and keywords in them. Also i have example of simple prompt.\n",
    "# Task\n",
    "+ Give me prompt to make trip plan with places and articles from database\n",
    "+ Generate best prompt as possible"
   ]
  },
  {
   "cell_type": "markdown",
   "id": "87e6e9ae-c063-4b24-92a3-136f476fe4f5",
   "metadata": {},
   "source": [
    "#### response"
   ]
  },
  {
   "cell_type": "code",
   "execution_count": 159,
   "id": "81e885bd-4ff3-4421-94b8-e73a42ec102d",
   "metadata": {
    "tags": [],
    "vscode": {
     "languageId": "python"
    }
   },
   "outputs": [
    {
     "name": "stdout",
     "output_type": "stream",
     "text": [
      "\n",
      "# Context\n",
      "I have data about places. I need to answer in question with context of this data\n",
      "# Task\n",
      "1. Based on the retrieved data, identify key locations and events that match the user's question.\n",
      "2. Use provided information as much as possible\n",
      "3. Generate a day-by-day itinerary that includes:\n",
      "   - Morning, afternoon, and evening activities.\n",
      "   - Recommendations for dining, highlighting local cuisine.\n",
      "   - Any relevant cultural or seasonal events, especially related to cherry blossoms.\n",
      "   - Links or references to articles for deeper exploration of each recommended site or activity.\n",
      "4. Provide alternative suggestions for each day, considering weather, crowd levels, and user preferences for more relaxed or active days.\n",
      "5. Summarize the trip plan, highlighting unique experiences and offering tips for transportation and accommodation, if available in the database.\n",
      "# Retrieved data\n",
      "\n",
      "# Question\n",
      "\n"
     ]
    }
   ],
   "source": [
    "trip_response_prompt = PromptTemplate.from_template(\"\"\"\n",
    "# Context\n",
    "I have data about places. I need to answer in question with context of this data\n",
    "# Task\n",
    "1. Based on the retrieved data, identify key locations and events that match the user's question.\n",
    "2. Use provided information as much as possible\n",
    "3. Generate a day-by-day itinerary that includes:\n",
    "   - Morning, afternoon, and evening activities.\n",
    "   - Recommendations for dining, highlighting local cuisine.\n",
    "   - Any relevant cultural or seasonal events, especially related to cherry blossoms.\n",
    "   - Links or references to articles for deeper exploration of each recommended site or activity.\n",
    "4. Provide alternative suggestions for each day, considering weather, crowd levels, and user preferences for more relaxed or active days.\n",
    "5. Summarize the trip plan, highlighting unique experiences and offering tips for transportation and accommodation, if available in the database.\n",
    "# Retrieved data\n",
    "{additional_info}\n",
    "# Question\n",
    "{question}\"\"\")\n",
    "print(trip_response_prompt.invoke({'additional_info': '', 'question': ''}).text)"
   ]
  },
  {
   "cell_type": "markdown",
   "id": "f569f707-0484-4aa3-82f3-40634d985bea",
   "metadata": {
    "jp-MarkdownHeadingCollapsed": true,
    "tags": []
   },
   "source": [
    "### No data"
   ]
  },
  {
   "cell_type": "code",
   "execution_count": 161,
   "id": "64db6908-5c6a-4897-a219-3cb7532e3c4a",
   "metadata": {
    "tags": [],
    "vscode": {
     "languageId": "python"
    }
   },
   "outputs": [
    {
     "name": "stdout",
     "output_type": "stream",
     "text": [
      "\n",
      "# Context\n",
      "A question was received. But unfortunately no additional information was found.\n",
      "Task:\n",
      "+ Answer the question as much as possible given the lack of information\n",
      "+ Do not answer questions that are not related to travel\n",
      "+ Do not invent anything, answer only according to the real known facts\n",
      "+ Tell if you can't help and suggest solutions\n",
      "+ Be polite\n",
      "+ Do not use name in answer\n",
      "+ Answer in Russian\n",
      "\n",
      "# Example when you can't help\n",
      "Извините, но я не смог найти никакой информации, связанной с вашим запросом, или мне показалось, что вводимые данные были недостаточно понятны для того, чтобы я мог предоставить вам наилучшую помощь. Давайте попробуем предоставить вам информацию, которую вы ищете. Вот несколько советов, которые помогут уточнить ваш запрос:\n",
      "1. Будьте максимально конкретны в том, что вы ищете. Например, если вас интересуют места для посещения, укажите тип интересующих вас мероприятий или впечатлений и их местоположение.\n",
      "2. Если вы спрашиваете о конкретном месте или мероприятии, предоставление более подробной информации (например, о городе или времени года, которые вас интересуют) может помочь мне найти для вас наиболее актуальную информацию.\n",
      "3. Не стесняйтесь задавать более общие вопросы, если вы находитесь на ранней стадии планирования. Например, \"Какие места в Японии обязательно нужно посетить тем, кто интересуется историей и культурой?\"\n",
      "Пожалуйста, попробуйте перефразировать свой вопрос или предоставить более подробную информацию, и я сделаю все возможное, чтобы помочь вам. Если вас еще что-то заинтересует или вам понадобится помощь, просто дайте мне знать!\n",
      "\n"
     ]
    }
   ],
   "source": [
    "no_data_response_prompt = PromptTemplate.from_template(\"\"\"\n",
    "# Context\n",
    "A question was received. But unfortunately no additional information was found.\n",
    "Task:\n",
    "+ Answer the question as much as possible given the lack of information\n",
    "+ Do not answer questions that are not related to travel\n",
    "+ Do not invent anything, answer only according to the real known facts\n",
    "+ Tell if you can't help and suggest solutions\n",
    "+ Be polite\n",
    "+ Do not use name in answer\n",
    "+ Answer in Russian\n",
    "\n",
    "# Example when you can't help\n",
    "Извините, но я не смог найти никакой информации, связанной с вашим запросом, или мне показалось, что вводимые данные были недостаточно понятны для того, чтобы я мог предоставить вам наилучшую помощь. Давайте попробуем предоставить вам информацию, которую вы ищете. Вот несколько советов, которые помогут уточнить ваш запрос:\n",
    "1. Будьте максимально конкретны в том, что вы ищете. Например, если вас интересуют места для посещения, укажите тип интересующих вас мероприятий или впечатлений и их местоположение.\n",
    "2. Если вы спрашиваете о конкретном месте или мероприятии, предоставление более подробной информации (например, о городе или времени года, которые вас интересуют) может помочь мне найти для вас наиболее актуальную информацию.\n",
    "3. Не стесняйтесь задавать более общие вопросы, если вы находитесь на ранней стадии планирования. Например, \"Какие места в Японии обязательно нужно посетить тем, кто интересуется историей и культурой?\"\n",
    "Пожалуйста, попробуйте перефразировать свой вопрос или предоставить более подробную информацию, и я сделаю все возможное, чтобы помочь вам. Если вас еще что-то заинтересует или вам понадобится помощь, просто дайте мне знать!\n",
    "\"\"\")\n",
    "print(no_data_response_prompt.invoke({}).text)"
   ]
  },
  {
   "cell_type": "markdown",
   "id": "a766056b-4d6c-47f1-90fa-0453d07bf84d",
   "metadata": {
    "jp-MarkdownHeadingCollapsed": true,
    "tags": []
   },
   "source": [
    "### Not travel"
   ]
  },
  {
   "cell_type": "code",
   "execution_count": 163,
   "id": "c85eeb51-0834-4c34-b802-213d0d5395a8",
   "metadata": {
    "tags": [],
    "vscode": {
     "languageId": "python"
    }
   },
   "outputs": [
    {
     "name": "stdout",
     "output_type": "stream",
     "text": [
      "\n",
      "# Context\n",
      "We have received a request outside the travel industry and cannot respond to it. \n",
      "# Task\n",
      "+ Generate a polite refusal.\n",
      "+ Be polite\n",
      "+ Do not use name in answer\n",
      "+ Answer in Russian\n",
      "# Example\n",
      "К сожалению, я могу дать вам подсказку. Я ее не понимаю. Но я могу рассказать вам кое-что о путешествиях!\n",
      "\n"
     ]
    }
   ],
   "source": [
    "not_travel_response_prompt = PromptTemplate.from_template(\"\"\"\n",
    "# Context\n",
    "We have received a request outside the travel industry and cannot respond to it. \n",
    "# Task\n",
    "+ Generate a polite refusal.\n",
    "+ Be polite\n",
    "+ Do not use name in answer\n",
    "+ Answer in Russian\n",
    "# Example\n",
    "К сожалению, я могу дать вам подсказку. Я ее не понимаю. Но я могу рассказать вам кое-что о путешествиях!\n",
    "\"\"\")\n",
    "print(not_travel_response_prompt.invoke({}).text)"
   ]
  },
  {
   "cell_type": "markdown",
   "id": "6e9f34f0-deee-4e38-aa35-e41694deadf0",
   "metadata": {
    "jp-MarkdownHeadingCollapsed": true,
    "tags": []
   },
   "source": [
    "### HyDE"
   ]
  },
  {
   "cell_type": "code",
   "execution_count": 165,
   "id": "77d0a96d-1659-458f-8808-a4b86ddba2a0",
   "metadata": {
    "vscode": {
     "languageId": "python"
    }
   },
   "outputs": [
    {
     "name": "stdout",
     "output_type": "stream",
     "text": [
      "\n",
      "# Context\n",
      "A question has been asked.\n",
      "Task\n",
      "+ Generate few short answers\n",
      "+ Generate only answers\n",
      "+ The answers should be no more than one sentence\n",
      "+ The answers should be separated by a \";\" sign\n",
      "+ Do not add any numeration\n",
      "# Question\n",
      "\n"
     ]
    }
   ],
   "source": [
    "hyde_query_prompt = PromptTemplate.from_template(\"\"\"\n",
    "# Context\n",
    "A question has been asked.\n",
    "Task\n",
    "+ Generate few short answers\n",
    "+ Generate only answers\n",
    "+ The answers should be no more than one sentence\n",
    "+ The answers should be separated by a \";\" sign\n",
    "+ Do not add any numeration\n",
    "# Question\n",
    "{question}\"\"\")\n",
    "print(hyde_query_prompt.invoke({v: '' for v in ['question']}).text)"
   ]
  },
  {
   "cell_type": "markdown",
   "id": "a325d942-d6d6-4acf-ba62-30172598e999",
   "metadata": {
    "toc-hr-collapsed": true
   },
   "source": [
    "## Query"
   ]
  },
  {
   "cell_type": "markdown",
   "id": "af513b8c-695b-4b63-b607-4630454d3751",
   "metadata": {
    "tags": []
   },
   "source": [
    "### Trip query"
   ]
  },
  {
   "cell_type": "code",
   "execution_count": 168,
   "id": "4940c434-7997-48e0-932d-23507b99db36",
   "metadata": {
    "tags": [],
    "vscode": {
     "languageId": "python"
    }
   },
   "outputs": [],
   "source": [
    "trip_query = '''\n",
    "match (n:Place)\n",
    "where\n",
    "n.category in [\"food\", \"recreation\", \"entertainment\", \"shopping\"]\n",
    "return n\n",
    "'''"
   ]
  },
  {
   "cell_type": "markdown",
   "id": "49b5ecfa-98d2-4b42-b087-349dcb3f48a3",
   "metadata": {
    "tags": []
   },
   "source": [
    "### Querier"
   ]
  },
  {
   "cell_type": "markdown",
   "id": "dba5d9fe-d43b-40e7-ad73-b11f4192c631",
   "metadata": {},
   "source": [
    "+ https://python.langchain.com/docs/expression_language/cookbook/prompt_llm_parser\n",
    "* https://python.langchain.com/docs/use_cases/graph/integrations/graph_cypher_qa#seeding-the-database"
   ]
  },
  {
   "cell_type": "markdown",
   "id": "8804ccd8-7d92-4a65-a252-82d40bff6f1e",
   "metadata": {
    "jp-MarkdownHeadingCollapsed": true,
    "tags": []
   },
   "source": [
    "#### FakeGraph"
   ]
  },
  {
   "cell_type": "code",
   "execution_count": 172,
   "id": "135fd12c-00b9-4090-a470-ccc5ec0d98e6",
   "metadata": {
    "tags": [],
    "vscode": {
     "languageId": "python"
    }
   },
   "outputs": [],
   "source": [
    "# class FakeGraph:\n",
    "#     def query(self, q, **kwargs):\n",
    "#         logger.info(f'FakeGraph: {q=} {kwargs=}')\n",
    "#         return test_resp\n",
    "    \n",
    "#     def schema(self):\n",
    "#         return test_schema\n",
    "    \n",
    "# graph = FakeGraph()"
   ]
  },
  {
   "cell_type": "markdown",
   "id": "21d45677-6c05-4a18-8d7f-94fab743d903",
   "metadata": {},
   "source": [
    "#### Graph"
   ]
  },
  {
   "cell_type": "code",
   "execution_count": 174,
   "id": "2552c204-2f79-40e7-8c91-ca2d663b805d",
   "metadata": {
    "tags": [],
    "vscode": {
     "languageId": "python"
    }
   },
   "outputs": [],
   "source": [
    "graph = Neo4jGraph(\n",
    "    # url=\"bolt://localhost:7687\", \n",
    "    url='bolt://46.148.235.218:7687',\n",
    "    username=\"neo4j\", \n",
    "    password=\"qwertyqwerty\"\n",
    ")\n",
    "graph.refresh_schema()"
   ]
  },
  {
   "cell_type": "code",
   "execution_count": 175,
   "id": "79ab136a-abca-402e-8bd9-f33bbbfc16a6",
   "metadata": {
    "tags": [],
    "vscode": {
     "languageId": "python"
    }
   },
   "outputs": [
    {
     "data": {
      "text/plain": [
       "'Node properties are the following:\\nDoc {title: STRING, id: INTEGER, embeddings: LIST, link: STRING, text: STRING},Span {id: INTEGER, embeddings: LIST, text: STRING},Keyword {text: STRING, type_: STRING, matched: BOOLEAN},Place {lat: FLOAT, has_music: FLOAT, has_wifi: FLOAT, category: STRING, photos_len: FLOAT, subcategory: STRING, is_accessable: FLOAT, has_website: FLOAT, phone_len: FLOAT, contact_social_len: FLOAT, review_count: FLOAT, lon: FLOAT, city: STRING, rating: FLOAT, object_keys_text: STRING, worktime_is_24x7: FLOAT, fill_score: FLOAT, is_modern: FLOAT, biased_rating: FLOAT, embeddings: LIST, title: STRING, id: INTEGER, address: STRING}\\nRelationship properties are the following:\\n\\nThe relationships are the following:\\n(:Span)-[:PART_OF_TEXT]->(:Doc),(:Keyword)-[:CONTAINS]->(:Span),(:Place)-[:HAS_CATEGORY]->(:Keyword),(:Place)-[:LOCATED_IN_THE_ADMINISTRATIVE_TERRITORIAL_ENTITY]->(:Keyword)'"
      ]
     },
     "execution_count": 175,
     "metadata": {},
     "output_type": "execute_result"
    }
   ],
   "source": [
    "graph.schema"
   ]
  },
  {
   "cell_type": "markdown",
   "id": "537f02de-8f37-4e57-8f80-bace2a8604a9",
   "metadata": {
    "tags": []
   },
   "source": [
    "### Graph Querier"
   ]
  },
  {
   "cell_type": "code",
   "execution_count": 177,
   "id": "e8b37685-c876-4b81-9c82-2418f411107b",
   "metadata": {
    "tags": [],
    "vscode": {
     "languageId": "python"
    }
   },
   "outputs": [],
   "source": [
    "class GraphQuerier:\n",
    "    def __init__(self, graph):\n",
    "        self._graph = graph\n",
    "        \n",
    "    def unwrap_response(self, data: list[dict[dict]]) -> list[dict]:\n",
    "        res = []\n",
    "        for sub_resp in data:\n",
    "            for k, v in sub_resp:\n",
    "                res += v\n",
    "        return res\n",
    "        \n",
    "    def _query(self, query: str, **kwargs) -> list:\n",
    "        try:\n",
    "            return [v for vv in self._graph.query(query, params=kwargs) for v in vv.values()]\n",
    "        except Exception as e:\n",
    "            logger.error(f'GraphQuerier got: {e}')\n",
    "            return []\n",
    "        \n",
    "    def query(self, query: str, **kwargs) -> list:\n",
    "        return self._query(query, **kwargs)\n",
    "        \n",
    "    def __call__(self, query: str, **kwargs) -> list:\n",
    "        resp = self.query(query, **kwargs)\n",
    "        logger.info(f'GraphQuerier: {query}, {kwargs=}, {len(resp)=}')\n",
    "        return resp\n",
    "    \n",
    "graph_querier = GraphQuerier(graph)"
   ]
  },
  {
   "cell_type": "markdown",
   "id": "19f08483-36a2-4618-9903-9d928a5733a4",
   "metadata": {},
   "source": [
    "#### test"
   ]
  },
  {
   "cell_type": "code",
   "execution_count": 179,
   "id": "a40de51e-9efb-41d7-b50f-bb916bd30035",
   "metadata": {
    "tags": [],
    "vscode": {
     "languageId": "python"
    }
   },
   "outputs": [],
   "source": [
    "# t = graph_querier(test_cypher, p=1), graph_querier('select * from lel')\n",
    "# str(t)[:100]"
   ]
  },
  {
   "cell_type": "markdown",
   "id": "4ef79761-9eee-48a9-b130-80ff8414a88b",
   "metadata": {
    "tags": []
   },
   "source": [
    "### Vector querier"
   ]
  },
  {
   "cell_type": "raw",
   "id": "b90d71d5-5972-4d39-8054-ed2b63020f13",
   "metadata": {
    "tags": []
   },
   "source": [
    "doc_embeddings_query = '''\n",
    "CREATE VECTOR INDEX `doc_embeddings` IF NOT EXISTS\n",
    "FOR (n: Doc) ON (n.embeddings)\n",
    "OPTIONS {indexConfig: {\n",
    " `vector.dimensions`: 312,\n",
    " `vector.similarity_function`: 'cosine'\n",
    "}}\n",
    "'''\n",
    "\n",
    "span_embeddings_query = '''\n",
    "CREATE VECTOR INDEX `span_embeddings` IF NOT EXISTS\n",
    "FOR (n: Span) ON (n.embeddings)\n",
    "OPTIONS {indexConfig: {\n",
    " `vector.dimensions`: 312,\n",
    " `vector.similarity_function`: 'cosine'\n",
    "}}\n",
    "'''\n",
    "\n",
    "place_embeddings_query = '''\n",
    "CREATE VECTOR INDEX `place_embeddings` IF NOT EXISTS\n",
    "FOR (n: Place) ON (n.embeddings)\n",
    "OPTIONS {indexConfig: {\n",
    " `vector.dimensions`: 312,\n",
    " `vector.similarity_function`: 'cosine'\n",
    "}}\n",
    "'''"
   ]
  },
  {
   "cell_type": "code",
   "execution_count": 181,
   "id": "b54f79c6-60c5-484f-9b5d-6f23087bb5e1",
   "metadata": {
    "tags": [],
    "vscode": {
     "languageId": "python"
    }
   },
   "outputs": [],
   "source": [
    "doc_embeddings_query = f'''\n",
    "CALL db.index.vector.queryNodes('doc_embeddings', $limit, $embeddings) \n",
    "YIELD node, score\n",
    "MATCH (node)\n",
    "WHERE score > $score_threshold\n",
    "RETURN \n",
    "    node\n",
    "ORDER BY score DESC \n",
    "'''\n",
    "\n",
    "span_embeddings_query = f'''\n",
    "CALL db.index.vector.queryNodes('span_embeddings', $limit, $embeddings) \n",
    "YIELD node, score\n",
    "MATCH (node)\n",
    "WHERE score > $score_threshold\n",
    "RETURN \n",
    "    node\n",
    "ORDER BY score DESC \n",
    "'''\n",
    "\n",
    "place_embeddings_query = f'''\n",
    "CALL db.index.vector.queryNodes('place_embeddings', $limit, $embeddings) \n",
    "YIELD node, score\n",
    "MATCH (node)\n",
    "WHERE score > $score_threshold\n",
    "RETURN \n",
    "    node\n",
    "ORDER BY score DESC \n",
    "'''"
   ]
  },
  {
   "cell_type": "code",
   "execution_count": 182,
   "id": "66cf2b89-fc5f-4678-bf7b-364f45acb489",
   "metadata": {
    "tags": [],
    "vscode": {
     "languageId": "python"
    }
   },
   "outputs": [],
   "source": [
    "class VectorQuerier(Chainable):\n",
    "    def __init__(self, graph_querier, queries, score_threshold=0.75, limit=3):\n",
    "        self._graph_querier = graph_querier\n",
    "        self._queries = queries\n",
    "        self._score_threshold = score_threshold\n",
    "        self._limit = limit\n",
    "\n",
    "    def _query(self, embeddings: list[float]) -> list:\n",
    "        resp = [node \n",
    "                for q in self._queries\n",
    "                for node in self._graph_querier(q, \n",
    "                    embeddings=embeddings,\n",
    "                    limit= self._limit,\n",
    "                    score_threshold= self._score_threshold,\n",
    "                )]\n",
    "        return resp\n",
    "    \n",
    "    def query(self, embeddings: list[float]) -> list:\n",
    "        return self._query(embeddings)\n",
    "    \n",
    "    def query_many(self, embeddings: list[list[float]]) -> list:\n",
    "        return [node \n",
    "                for emb in embeddings\n",
    "                for node in self._query(emb)\n",
    "               ]\n",
    "        \n",
    "    def __call__(self, embeddings: list[float]) -> list:\n",
    "        return self._query(embeddings)\n",
    "    \n",
    "vector_querier = VectorQuerier(\n",
    "    graph_querier, \n",
    "    [doc_embeddings_query, place_embeddings_query, span_embeddings_query],\n",
    "    score_threshold=0.75,\n",
    ")"
   ]
  },
  {
   "cell_type": "markdown",
   "id": "7cad5f3e-fe4f-4a11-97ef-3a5cf596e488",
   "metadata": {
    "jp-MarkdownHeadingCollapsed": true,
    "tags": []
   },
   "source": [
    "#### test"
   ]
  },
  {
   "cell_type": "code",
   "execution_count": 184,
   "id": "439ab3bd-53a1-4754-986a-a110895e1520",
   "metadata": {
    "tags": [],
    "vscode": {
     "languageId": "python"
    }
   },
   "outputs": [],
   "source": [
    "# t = vector_querier(test_embedds)\n",
    "# str(t)[:100]"
   ]
  },
  {
   "cell_type": "code",
   "execution_count": 185,
   "id": "293160fe-4435-46de-82f7-156d1a655f41",
   "metadata": {
    "tags": [],
    "vscode": {
     "languageId": "python"
    }
   },
   "outputs": [],
   "source": [
    "# t = vector_querier.query_many([test_embedds, test_embedds])\n",
    "# str(t)[:100]"
   ]
  },
  {
   "cell_type": "markdown",
   "id": "a415e36a-d00e-42fe-99ff-f0b5192ca5b3",
   "metadata": {
    "tags": []
   },
   "source": [
    "### Hybrid querier"
   ]
  },
  {
   "cell_type": "code",
   "execution_count": 187,
   "id": "64dad192-3d38-4bf3-8e06-e06ac964d9be",
   "metadata": {
    "tags": [],
    "vscode": {
     "languageId": "python"
    }
   },
   "outputs": [],
   "source": [
    "doc_hybrid_query = f'''\n",
    "CALL db.index.vector.queryNodes('doc_embeddings', $limit, $embeddings) \n",
    "YIELD node, score\n",
    "MATCH (node)-[]-(kw:Keyword)\n",
    "WHERE \n",
    "    score > $score_threshold\n",
    "    AND kw.text in $keys\n",
    "RETURN \n",
    "    node\n",
    "ORDER BY score DESC \n",
    "'''\n",
    "\n",
    "\n",
    "span_hybrid_query = f'''\n",
    "CALL db.index.vector.queryNodes('span_embeddings', $limit, $embeddings) \n",
    "YIELD node, score\n",
    "MATCH (node)-[]-(kw:Keyword)\n",
    "WHERE \n",
    "    score > $score_threshold\n",
    "    AND kw.text in $keys\n",
    "RETURN \n",
    "    node\n",
    "ORDER BY score DESC \n",
    "'''"
   ]
  },
  {
   "cell_type": "code",
   "execution_count": 188,
   "id": "c5a6b297-32b9-4b9a-a06c-e35674a50899",
   "metadata": {
    "tags": [],
    "vscode": {
     "languageId": "python"
    }
   },
   "outputs": [],
   "source": [
    "class HybridQuerier(Chainable):\n",
    "    def __init__(self, graph_querier, queries, score_threshold=0.75, limit=3):\n",
    "        self._graph_querier = graph_querier\n",
    "        self._queries = queries\n",
    "        self._score_threshold = score_threshold\n",
    "        self._limit = limit\n",
    "\n",
    "    def _query(self, embeddings: list[float], keys: list) -> str:\n",
    "        resp = list([\n",
    "                node \n",
    "                for q in self._queries\n",
    "                for node in self._graph_querier(q,\n",
    "                    embeddings=embeddings,\n",
    "                    limit=self._limit,\n",
    "                    score_threshold=self._score_threshold,\n",
    "                    keys=keys,\n",
    "                )\n",
    "            ])\n",
    "        return resp\n",
    "        \n",
    "    def query(self, embeddings: list[float], keys: list) -> str:\n",
    "        return self._query(embeddings, keys)\n",
    "        \n",
    "    def __call__(self, embeddings: list[float], keys: list) -> str:\n",
    "        return self._query(embeddings, keys)\n",
    "        \n",
    "hybrid_querier = HybridQuerier(\n",
    "    graph_querier, \n",
    "    [span_hybrid_query, doc_hybrid_query],\n",
    "    score_threshold=0.2,\n",
    ")"
   ]
  },
  {
   "cell_type": "markdown",
   "id": "002ac42f-08a1-4055-8923-c04a407ee4fc",
   "metadata": {
    "jp-MarkdownHeadingCollapsed": true,
    "tags": []
   },
   "source": [
    "#### test"
   ]
  },
  {
   "cell_type": "code",
   "execution_count": 190,
   "id": "9be1928b-5cd1-44e5-8fde-3af331bbd636",
   "metadata": {
    "tags": [],
    "vscode": {
     "languageId": "python"
    }
   },
   "outputs": [],
   "source": [
    "# t = hybrid_querier(test_embedds, ['санкт-петербург'])\n",
    "# str(t)[:100]"
   ]
  },
  {
   "cell_type": "markdown",
   "id": "98060316-58c1-4b94-9d1f-04a87f3f92ed",
   "metadata": {
    "tags": []
   },
   "source": [
    "## Model"
   ]
  },
  {
   "cell_type": "code",
   "execution_count": 192,
   "id": "be66e7d9-47e3-456a-aa1d-8ba23196df26",
   "metadata": {
    "tags": [],
    "vscode": {
     "languageId": "python"
    }
   },
   "outputs": [],
   "source": [
    "@dataclass\n",
    "class Entity:\n",
    "    value: str\n",
    "    start: int\n",
    "    stop: int\n",
    "    type_: str\n",
    "    \n",
    "    @property\n",
    "    def identity(self) -> str | None:\n",
    "        return self.value\n",
    "    \n",
    "    @identity.setter\n",
    "    def identity(self, value: str):\n",
    "        self.value = value"
   ]
  },
  {
   "cell_type": "markdown",
   "id": "9b06e72b-3000-4c3c-9ff8-b08ea3e07b86",
   "metadata": {
    "tags": []
   },
   "source": [
    "## Disambiguator"
   ]
  },
  {
   "cell_type": "code",
   "execution_count": 194,
   "id": "e428806b-56e3-49b1-9fc3-0f9274d4eb8f",
   "metadata": {
    "vscode": {
     "languageId": "python"
    }
   },
   "outputs": [],
   "source": [
    "lem = Mystem()"
   ]
  },
  {
   "cell_type": "code",
   "execution_count": 195,
   "id": "2a8b0b78-114f-4194-ad4e-96eeea57e52a",
   "metadata": {
    "tags": [],
    "vscode": {
     "languageId": "python"
    }
   },
   "outputs": [],
   "source": [
    "nonword_pattern = re.compile(r'[^0-9а-яА-ЯёЁa-zA-Z\\s.-]+')\n",
    "\n",
    "class BasicDisambiguator(Chainable):\n",
    "    def __init__(self, thesaurus: dict=dict(), lemmatizer=Mystem()):\n",
    "        self.__lemmatizer = lemmatizer\n",
    "        self.__thesaurus = thesaurus\n",
    "        \n",
    "    def disambiguate(self, entity: Entity) -> Entity:\n",
    "        if entity.identity:\n",
    "            entity.identity = self._disambiguate(entity.identity)\n",
    "        return entity\n",
    "        \n",
    "    def _disambiguate(self, identity: str) -> str:\n",
    "        identity = nonword_pattern.sub(r'', identity)\n",
    "        if identity in self.__thesaurus:\n",
    "            return identity\n",
    "        identity = ''.join(self.__lemmatizer.lemmatize(identity)[:-1])\n",
    "        for core, synonims in self.__thesaurus.items():\n",
    "            if identity in synonims:\n",
    "                return core\n",
    "        return identity\n",
    "    \n",
    "    def __call__(self, entities: typing.Iterable[Entity]) -> typing.Iterable[Entity]:\n",
    "        return [self.disambiguate(entity) for entity in entities]\n",
    "    \n",
    "disambiguator = BasicDisambiguator({\n",
    "    'санкт-петербург': ['петербург', 'питер'],\n",
    "    'российский федерация': ['рф', 'россия'],\n",
    "    'российский академия наука': ['ран']\n",
    "}, lemmatizer=lem)"
   ]
  },
  {
   "cell_type": "markdown",
   "id": "57577107-9357-420f-879f-a5c7e93926f3",
   "metadata": {
    "tags": [],
    "toc-hr-collapsed": true
   },
   "source": [
    "## Entities"
   ]
  },
  {
   "cell_type": "markdown",
   "id": "4bafd4db-0111-4847-b573-b1a8baacfbec",
   "metadata": {},
   "source": [
    "### Extractors"
   ]
  },
  {
   "cell_type": "markdown",
   "id": "5cc72425-7ed6-49e0-9496-727b33e78a83",
   "metadata": {
    "tags": []
   },
   "source": [
    "#### Natasha"
   ]
  },
  {
   "cell_type": "code",
   "execution_count": 199,
   "id": "a9cbf53c-122c-49ce-b0a3-a4827bc398dc",
   "metadata": {
    "tags": [],
    "vscode": {
     "languageId": "python"
    }
   },
   "outputs": [],
   "source": [
    "# class NatashaExtractor(Chainable):\n",
    "#     def __init__(self, processors):\n",
    "#         self._segmenter = natasha.Segmenter()\n",
    "#         self._morph_vocab = natasha.MorphVocab()\n",
    "#         self._names_extractor = natasha.NamesExtractor(self._morph_vocab)\n",
    "#         self._embeddings = natasha.NewsEmbedding()\n",
    "#         self._morph_tagger = natasha.NewsMorphTagger(self._embeddings)\n",
    "#         self._ner_tagger = natasha.NewsNERTagger(self._embeddings)\n",
    "#         self._processors = processors\n",
    "#         self._doc = None\n",
    "\n",
    "#     def _extract_entity(self, text: str, span: natasha.span.Span) -> Entity:\n",
    "#         return Entity(text[span.start:span.stop], span.start, span.stop, span.type)\n",
    "\n",
    "#     def extract_entities(self, text: str) -> typing.Iterable[Entity]:\n",
    "#         text = text.replace('\\n', ' ')\n",
    "#         self._doc = natasha.Doc(text)\n",
    "#         self._doc.segment(self._segmenter)\n",
    "#         self._doc.tag_ner(self._ner_tagger)\n",
    "#         return [self._extract_entity(text, span) for span in self._doc.ner.spans]\n",
    "\n",
    "#     def extract(self, text: str) -> typing.Iterable[Entity]:\n",
    "#         entities = self.extract_entities(text)\n",
    "#         for p in self._processors:\n",
    "#             entities = p(entities)\n",
    "#         return entities\n",
    "\n",
    "#     def __call__(self, text: str) -> typing.Iterable[Entity]:\n",
    "#         return self.extract(text)\n",
    "\n",
    "# natasha_extractor = NatashaExtractor([disambiguator])"
   ]
  },
  {
   "cell_type": "markdown",
   "id": "28b772ea-1632-428c-ba66-88f7277d1d33",
   "metadata": {},
   "source": [
    "##### test"
   ]
  },
  {
   "cell_type": "code",
   "execution_count": 201,
   "id": "fab750f6-132a-4bcd-934d-f0538241c1af",
   "metadata": {
    "tags": [],
    "vscode": {
     "languageId": "python"
    }
   },
   "outputs": [],
   "source": [
    "# test_entities = natasha_extractor(test_question)"
   ]
  },
  {
   "cell_type": "markdown",
   "id": "ddea1cdb-372f-43e7-99e2-2f3273057017",
   "metadata": {
    "tags": []
   },
   "source": [
    "#### Spacy"
   ]
  },
  {
   "cell_type": "code",
   "execution_count": 203,
   "id": "08157f07-7fe3-4529-8b71-8643ea2ef2d8",
   "metadata": {
    "tags": [],
    "vscode": {
     "languageId": "python"
    }
   },
   "outputs": [],
   "source": [
    "import spacy\n",
    "nlp = spacy.load('ru_core_news_sm')"
   ]
  },
  {
   "cell_type": "code",
   "execution_count": 204,
   "id": "6ca67fbb-fdcd-4d95-a56d-ef48eacdc8cc",
   "metadata": {
    "tags": [],
    "vscode": {
     "languageId": "python"
    }
   },
   "outputs": [],
   "source": [
    "class SpacyExtractor:\n",
    "    def __init__(self, processors, nlp=None):\n",
    "        self._processors = processors\n",
    "        self._nlp = nlp if nlp else spacy.load('ru_core_news_sm')\n",
    "        self._doc = None\n",
    "\n",
    "    def _extract(self, text: str) -> typing.Iterable[Entity]:\n",
    "        text = text.replace('\\n', ' ')\n",
    "        self._doc = self._nlp(text)\n",
    "        return [self._entity_from_span(span) for span in self._doc.ents]\n",
    "    \n",
    "    def _entity_from_span(self, ent: spacy.tokens.span.Span) -> Entity:\n",
    "        return Entity(ent.lemma_, ent.start_char, ent.end_char, ent.label_)\n",
    "    \n",
    "    def extract(self, text: str) -> typing.Iterable[Entity]:\n",
    "        entities = self._extract(text)\n",
    "        for p in self._processors:\n",
    "            entities = p(entities)\n",
    "        return entities\n",
    "\n",
    "    def __call__(self, text: str) -> typing.Iterable[Entity]:\n",
    "        return self.extract(text)\n",
    "    \n",
    "spacy_extractor = SpacyExtractor([disambiguator], nlp)"
   ]
  },
  {
   "cell_type": "markdown",
   "id": "66fe6a75-ce68-4d7b-955e-707f705679cd",
   "metadata": {
    "jp-MarkdownHeadingCollapsed": true,
    "tags": []
   },
   "source": [
    "##### test"
   ]
  },
  {
   "cell_type": "code",
   "execution_count": 206,
   "id": "488828ee-e774-4591-8671-3f9f24c8d7d2",
   "metadata": {
    "tags": [],
    "vscode": {
     "languageId": "python"
    }
   },
   "outputs": [],
   "source": [
    "# test_entities = spacy_extractor(test_question)"
   ]
  },
  {
   "cell_type": "markdown",
   "id": "6760f04c-4ee5-4360-8f67-3de7e135f9bf",
   "metadata": {
    "tags": []
   },
   "source": [
    "### Keyworder"
   ]
  },
  {
   "cell_type": "code",
   "execution_count": 208,
   "id": "f037f56a-620d-492b-a485-4cf5371c564a",
   "metadata": {
    "tags": [],
    "vscode": {
     "languageId": "python"
    }
   },
   "outputs": [],
   "source": [
    "class Keyworder(Chainable):\n",
    "    def __call__(self, entities: typing.Iterable[Entity]) -> list[str]:\n",
    "        return list([ent.value for ent in entities])\n",
    "    \n",
    "keyworder = Keyworder()"
   ]
  },
  {
   "cell_type": "markdown",
   "id": "bc16277e-dab2-4127-bd50-41c90bc63355",
   "metadata": {
    "jp-MarkdownHeadingCollapsed": true,
    "tags": []
   },
   "source": [
    "#### test"
   ]
  },
  {
   "cell_type": "code",
   "execution_count": 210,
   "id": "8a00ebfb-5413-41c8-b475-12820f2d0ae9",
   "metadata": {
    "vscode": {
     "languageId": "python"
    }
   },
   "outputs": [],
   "source": [
    "# keyworder(test_entities)"
   ]
  },
  {
   "cell_type": "markdown",
   "id": "b6cb6817-e256-40f5-952f-5b6ffd340244",
   "metadata": {
    "tags": []
   },
   "source": [
    "### Tagger"
   ]
  },
  {
   "cell_type": "code",
   "execution_count": 212,
   "id": "0df9cee5-73c7-4952-a0d6-0f8a9bf98b81",
   "metadata": {
    "tags": [],
    "vscode": {
     "languageId": "python"
    }
   },
   "outputs": [],
   "source": [
    "class Tagger(Chainable):\n",
    "    def __call__(self, *args) -> str:\n",
    "        text = args[0]\n",
    "        entities = args[1]\n",
    "        \n",
    "        pairs = []\n",
    "        for entity in entities:\n",
    "            word = text[entity.start:entity.stop]\n",
    "            tag = f'<{entity.type_}>{entity.identity}<{entity.type_}>'\n",
    "            pairs.append((word, tag))\n",
    "            \n",
    "        for p in pairs:\n",
    "            text = text.replace(p[0], p[1])\n",
    "        return text\n",
    "    \n",
    "tagger = Tagger()"
   ]
  },
  {
   "cell_type": "markdown",
   "id": "8f1c62bd-6015-4bfc-bb0e-40ddb8160d63",
   "metadata": {
    "jp-MarkdownHeadingCollapsed": true,
    "tags": []
   },
   "source": [
    "#### test"
   ]
  },
  {
   "cell_type": "code",
   "execution_count": 214,
   "id": "5c7126ff-5e7d-48c5-8d24-443481e0f4a3",
   "metadata": {
    "tags": [],
    "vscode": {
     "languageId": "python"
    }
   },
   "outputs": [],
   "source": [
    "# tagger(test_question, test_entities)"
   ]
  },
  {
   "cell_type": "code",
   "execution_count": 215,
   "id": "4265be14-acce-4466-8ab3-eae836ed3240",
   "metadata": {
    "tags": [],
    "vscode": {
     "languageId": "python"
    }
   },
   "outputs": [],
   "source": [
    "# q = 'Какое задание Данила получает от своего брата Виктора, также известного как Татарин?'"
   ]
  },
  {
   "cell_type": "code",
   "execution_count": 216,
   "id": "9bfdb702-f9d2-4eea-8b59-5119732631a1",
   "metadata": {
    "tags": [],
    "vscode": {
     "languageId": "python"
    }
   },
   "outputs": [],
   "source": [
    "# tagger(q, spacy_extractor(q))"
   ]
  },
  {
   "cell_type": "markdown",
   "id": "cf5a24c0-8ad1-412c-974c-8dd3ec6718c3",
   "metadata": {
    "tags": [],
    "toc-hr-collapsed": true
   },
   "source": [
    "## Router"
   ]
  },
  {
   "cell_type": "markdown",
   "id": "1c1a3dca-25ea-4886-8442-1a86e0ae87f0",
   "metadata": {
    "tags": []
   },
   "source": [
    "### Keyword"
   ]
  },
  {
   "cell_type": "code",
   "execution_count": 219,
   "id": "af77072e-8c62-4efb-af7f-cafef4d96782",
   "metadata": {
    "tags": [],
    "vscode": {
     "languageId": "python"
    }
   },
   "outputs": [],
   "source": [
    "# class KeywordRouter(Chainable):\n",
    "#     def __init__(self, routes: dict[str, list[str]], default: str):\n",
    "#         for route, keys in routes.items():\n",
    "#             routes[route] = [k.lower() for k in keys]\n",
    "#         self._routes = routes\n",
    "#         self._default = default\n",
    "        \n",
    "#     def __call__(self, input_txt: str) -> str:\n",
    "#         input_txt = input_txt.lower()\n",
    "#         for route, keys in self._routes.items():\n",
    "#             for k in keys:\n",
    "#                 if k in input_txt:\n",
    "#                     return route\n",
    "#         return self._default\n",
    "    \n",
    "#     def __or__(self, input_txt: str) -> str:\n",
    "#         return self(input_txt)\n",
    "    \n",
    "#     def __ror__(self, input_txt: str) -> str:\n",
    "#         return self(input_txt)\n",
    "    \n",
    "# keyword_router = KeywordRouter({\n",
    "#     'place': ['куда', 'где'],\n",
    "#     'info': ['расскажи'],\n",
    "#     'trip': ['спланируй'],\n",
    "# }, 'unknown')\n"
   ]
  },
  {
   "cell_type": "markdown",
   "id": "0b2dd3af-d3ca-49da-8c02-b7a1af012c76",
   "metadata": {
    "jp-MarkdownHeadingCollapsed": true,
    "tags": []
   },
   "source": [
    "#### test"
   ]
  },
  {
   "cell_type": "code",
   "execution_count": 221,
   "id": "d4723de0-cd4d-444e-ad1f-c097f724caf7",
   "metadata": {
    "vscode": {
     "languageId": "python"
    }
   },
   "outputs": [],
   "source": [
    "# (\n",
    "#     keyword_router('где сходить в магазин в Питере?'), \n",
    "#     keyword_router | 'где сходить в магазин в Питере?',\n",
    "#     'где сходить в магазин в Питере?' | keyword_router,\n",
    "# )"
   ]
  },
  {
   "cell_type": "markdown",
   "id": "d6ebde13-df9a-4d0a-a5f2-573476bcc5f8",
   "metadata": {
    "tags": []
   },
   "source": [
    "### Centroid"
   ]
  },
  {
   "cell_type": "markdown",
   "id": "256d2eda-8993-498d-a254-9b900a6db34f",
   "metadata": {
    "tags": []
   },
   "source": [
    "#### Prompt"
   ]
  },
  {
   "cell_type": "code",
   "execution_count": 224,
   "id": "d6f7b5fd-0cea-4250-b16c-8b9977ae712a",
   "metadata": {
    "tags": [],
    "vscode": {
     "languageId": "python"
    }
   },
   "outputs": [],
   "source": [
    "# task = '''\n",
    "# # Context\n",
    "# У меня есть вопросы по некоторой теме.\n",
    "# # Task\n",
    "# + Перефразируй вопросы\n",
    "# + Ты можешь менять место и предмет вопроса\n",
    "# + Выведи только вопросы в виде списка в Python list[str]\n",
    "# # Примеры вопросов по теме \n",
    "# '''"
   ]
  },
  {
   "cell_type": "code",
   "execution_count": 225,
   "id": "bb3c16ef-ade1-444a-8350-b38ca69e6aa8",
   "metadata": {
    "tags": [],
    "vscode": {
     "languageId": "python"
    }
   },
   "outputs": [],
   "source": [
    "# movie_storyline = [\n",
    "#     'В каком году происходят события фильма \"Брат\"?',\n",
    "#     'Какой профессией обладал главный герой Данила Багров перед событиями фильма?',\n",
    "#     'Что стало причиной задержания Данила Багрова в отделении милиции?',\n",
    "#     'Какое задание Данила получает от своего брата Виктора, также известного как Татарин?',\n",
    "#     'Какие обстоятельства привели к знакомству Данилы с Гофманом и Кэт в Санкт-Петербурге?',\n",
    "#     'Какой поворот сюжета происходит после убийства Чечена по заказу Виктора?',\n",
    "#     'Какие действия предпринимает Данила для спасения Светы и как это влияет на их отношения?',\n",
    "#     'Какой конфликт возникает между Данилой и Круглым, и как он разрешается?',\n",
    "#     'Чем заканчивается история Данилы и его брата Виктора в фильме?',\n",
    "#     'Какова роль музыки и определенных песен в развитии сюжета и характере главного героя?',\n",
    "# ]\n",
    "# questoions = '\\n'.join(movie_storyline)"
   ]
  },
  {
   "cell_type": "code",
   "execution_count": 226,
   "id": "00d3bf41-df93-4935-aa8a-bba003bcd303",
   "metadata": {
    "tags": [],
    "vscode": {
     "languageId": "python"
    }
   },
   "outputs": [],
   "source": [
    "# print(f'''\n",
    "# {task}\n",
    "# {questoions}\n",
    "# ''')"
   ]
  },
  {
   "cell_type": "code",
   "execution_count": 227,
   "id": "1e583776-a5ef-49e4-a1ce-d03c0a83c98e",
   "metadata": {
    "tags": [],
    "vscode": {
     "languageId": "python"
    }
   },
   "outputs": [],
   "source": [
    "# movie_places = [\n",
    "#     'расскажи в каких местах в Санкт-Петербурге были съемки Брата?',\n",
    "#     'расскажи какие памятники в Санкт-Петербурге попали в фильма съемки \"Брат\"?',\n",
    "#     'расскажи через какие знаковые места Санкт-Петербурга проходит путь Данилы Багрова в эпизоде с грузовым трамваем?',\n",
    "#     'расскажи про какие места были в обоих фильмах \"Брат\" и \"Брат 2\"?',\n",
    "#     'расскажи про места съемок фильма Брат',\n",
    "# ]\n",
    "# questoions = '\\n'.join(movie_places)"
   ]
  },
  {
   "cell_type": "code",
   "execution_count": 228,
   "id": "c8e7a9d4-6362-4576-9d2c-0aa737136ad7",
   "metadata": {
    "tags": [],
    "vscode": {
     "languageId": "python"
    }
   },
   "outputs": [],
   "source": [
    "# print(f'''\n",
    "# {task}\n",
    "# {questoions}\n",
    "# ''')"
   ]
  },
  {
   "cell_type": "code",
   "execution_count": 229,
   "id": "5cffe2ee-3c74-4571-b891-2834a18a47fd",
   "metadata": {
    "tags": [],
    "vscode": {
     "languageId": "python"
    }
   },
   "outputs": [],
   "source": [
    "# city_places = [\n",
    "#     'где сходить в магазин в Питере?',\n",
    "#     'где можно нормально выпить в Питере?',\n",
    "#     'где хорошо поесть в Санкт-Петербурге?',\n",
    "#     'где можно отдохнуть в Санкт-Петербурге?',\n",
    "#     'где развлечься в Санкт-Петербурге?',\n",
    "# ]\n",
    "# questoions = '\\n'.join(city_places)"
   ]
  },
  {
   "cell_type": "code",
   "execution_count": 230,
   "id": "fd52cfc9-8327-4e39-ac72-173a4ce2b1d0",
   "metadata": {
    "tags": [],
    "vscode": {
     "languageId": "python"
    }
   },
   "outputs": [],
   "source": [
    "# print(f'''\n",
    "# {task}\n",
    "# {questoions}\n",
    "# ''')"
   ]
  },
  {
   "cell_type": "code",
   "execution_count": 231,
   "id": "86661c14-363a-4dc0-b778-7c18be9416cd",
   "metadata": {
    "tags": [],
    "vscode": {
     "languageId": "python"
    }
   },
   "outputs": [],
   "source": [
    "# travel_info = [\n",
    "#     'расскажи про мост со скульптурами «Укрощение коня»',\n",
    "#     'расскажи про институт физиологии Российской академии наук в Санкт-Петербурге',\n",
    "#     'расскажи про музей «Павловские Колтуши»',\n",
    "#     'расскажи про Юсуповский дворец',\n",
    "#     'расскажи где вид с высоты на Петербург',\n",
    "#     'расскажи что такое Стрелка в Петербурге',\n",
    "#     'расскажи когда Невский проспект обрёл нынешний вид',\n",
    "#     'расскажи про атмосферный книжный магазин в Санкт-Петербурге',\n",
    "#     'расскажи про «Подписные издания»',\n",
    "#     'расскажи где было совершено седьмое покушение на Александра II',\n",
    "#     'расскажи про Спас на Крови',\n",
    "#     'расскажи про Павловский пейзажный парк',\n",
    "#     'расскажи про какойнибудь большой парк в стране',\n",
    "#     'расскажи про Мечеть в Петербурге',\n",
    "#     'расскажи что-нибудь про Ладожское озеро',\n",
    "#     'расскажи про Елагин остров',\n",
    "#     'расскажи про Петропавловская крепость',\n",
    "#     'расскажи про Толстовский дом',\n",
    "#     'расскажи про Дом Бенуа',\n",
    "#     'расскажи про Церковь Святого Георгия',\n",
    "# ]\n",
    "# questoions = '\\n'.join(travel_info)"
   ]
  },
  {
   "cell_type": "code",
   "execution_count": 232,
   "id": "4ece0180-2068-440f-afa6-a3747deabbcc",
   "metadata": {
    "tags": [],
    "vscode": {
     "languageId": "python"
    }
   },
   "outputs": [],
   "source": [
    "# print(f'''\n",
    "# {task}\n",
    "# {questoions}\n",
    "# ''')"
   ]
  },
  {
   "cell_type": "markdown",
   "id": "64a84b21-38a2-4572-ad75-d37c1f6a5765",
   "metadata": {
    "tags": []
   },
   "source": [
    "#### Dataset"
   ]
  },
  {
   "cell_type": "code",
   "execution_count": 234,
   "id": "b3a3aa99-f7fb-49d7-aace-47052e10797e",
   "metadata": {
    "tags": [],
    "vscode": {
     "languageId": "python"
    }
   },
   "outputs": [],
   "source": [
    "trip_questions = [\n",
    "    \"Составь маршрут для выходных в Санкт-Петербурге.\",\n",
    "    \"Как спланировать идеальный день в Санкт-Петербурге?\",\n",
    "    \"Подбери программу для семейного отдыха в Санкт-Петербурге.\",\n",
    "    \"Как организовать необычное путешествие по Санкт-Петербургу?\",\n",
    "    \"Что включить в план посещения культурных мест в Санкт-Петербурге?\",\n",
    "    \"Как спланировать романтический уикенд в Санкт-Петербурге?\",\n",
    "    \"Составь экскурсионный маршрут по Санкт-Петербургу на 3 дня.\",\n",
    "    \"Как спланировать обзорную поездку по Санкт-Петербургу за один день?\",\n",
    "    \"Подбери лучшие места для фотосессий в Санкт-Петербурге.\",\n",
    "    \"Как организовать культурный отдых в Санкт-Петербурге на выходные?\"\n",
    "]\n",
    "movie_storyline_questions = [\n",
    "    \"В какой период времени разворачивается сюжет 'Брата'?\",\n",
    "    \"Кем работал Данила Багров до начала событий, изложенных в фильме?\",\n",
    "    \"По какой причине Данилу Багрова задержали в полиции?\",\n",
    "    \"Какую миссию Виктор поручает Даниле в фильме 'Брат'?\",\n",
    "    \"Что привело к встрече Данилы с Гофманом и Кэт в городе на Неве?\",\n",
    "    \"Какое событие стало переломным моментом в фильме после убийства по найму?\",\n",
    "    \"Каковы были действия Данилы для спасения Светы, и как это повлияло на их взаимоотношения?\",\n",
    "    \"Опишите конфликт между Данилой и Круглым и его разрешение.\",\n",
    "    \"Как завершается история братьев в 'Брате'?\",\n",
    "    \"Какую роль играет музыка в формировании сюжета и характера главного героя?\"\n",
    "]\n",
    "movie_places_questions = [\n",
    "    \"В каких локациях Санкт-Петербурга проходили съемки 'Брата'?\",\n",
    "    \"Какие памятники Санкт-Петербурга можно увидеть в кадрах фильма 'Брат'?\",\n",
    "    \"По каким знаковым местам Санкт-Петербурга Данила Багров следует в сцене с грузовым трамваем?\",\n",
    "    \"Какие локации появляются в обеих частях фильмов 'Брат' и 'Брат 2'?\",\n",
    "    \"Где проходили ключевые съемки фильма 'Брат'?\"\n",
    "]\n",
    "city_places_questions = [\n",
    "    \"Какие магазины стоит посетить в Санкт-Петербурге?\",\n",
    "    \"В каких барах Санкт-Петербурга предлагают отличные напитки?\",\n",
    "    \"Где в Санкт-Петербурге можно вкусно пообедать?\",\n",
    "    \"Какие места для отдыха рекомендуют в Санкт-Петербурге?\",\n",
    "    \"Куда сходить за развлечениями в Санкт-Петербурге?\"\n",
    "]\n",
    "travel_place_info_questions = [\n",
    "    \"Какие особенности имеет мост с скульптурами «Укрощение коня»?\",\n",
    "    \"Чем знаменит институт физиологии Российской академии наук в Санкт-Петербурге?\",\n",
    "    \"Что представляет собой музей «Павловские Колтуши»?\",\n",
    "    \"Какова история и особенности Юсуповского дворца?\",\n",
    "    \"Где в Петербурге можно насладиться видом города с высоты?\",\n",
    "    \"Что представляет собой Стрелка Васильевского острова в Санкт-Петербурге?\",\n",
    "    \"Когда Невский проспект приобрел свой современный облик?\",\n",
    "    \"Какие книжные магазины в Санкт-Петербурге славятся своей атмосферой?\",\n",
    "    \"Что такое «Подписные издания» в контексте литературы?\",\n",
    "    \"Где произошло последнее покушение на императора Александра II?\",\n",
    "    \"В чем уникальность Спаса на Крови?\",\n",
    "    \"Что известно о Павловском пейзажном парке?\",\n",
    "    \"Расскажи о крупнейшем парке в твоей стране.\",\n",
    "    \"Какова история и архитектура Мечети в Санкт-Петербурге?\",\n",
    "    \"Что интересного в Ладожском озере?\",\n",
    "    \"Чем примечателен Елагин остров?\",\n",
    "    \"Какова история Петропавловской крепости?\",\n",
    "    \"Что известно о Толстовском доме?\",\n",
    "    \"Какие исторические события связаны с Домом Бенуа?\",\n",
    "    \"Что уникального в Церкви Святого Георгия?\"\n",
    "]\n",
    "travel_info_questions = [\n",
    "    \"Какие советы стоит учесть при планировании бюджетного путешествия?\",\n",
    "    \"Какие документы необходимы для международного путешествия?\",\n",
    "    \"Какие страны предлагают уникальные природные ландшафты для путешественников?\",\n",
    "    \"В каких странах находятся самые загадочные археологические памятники?\",\n",
    "    \"Какие мировые кухни стоит попробовать каждому путешественнику?\",\n",
    "    \"Каковы лучшие способы изучения нового языка во время путешествия?\",\n",
    "    \"Какие города являются лучшими для посещения в зимнее время?\",\n",
    "    \"Какие приложения для путешествий необходимы в каждой поездке?\",\n",
    "    \"Как путешествовать экологически чисто и не наносить вред окружающей среде?\",\n",
    "    \"Какие секретные места стоит посетить в популярных туристических направлениях?\"\n",
    "]\n",
    "not_travel_questions = [\n",
    "    \"Каковы основные факторы, влияющие на изменение климата на планете Земля?\",\n",
    "    \"Какие технологии используются для очистки питьевой воды в больших городах?\",\n",
    "    \"Что такое квантовое запутывание и как оно может быть использовано в будущем?\",\n",
    "    \"Какие страны входят в состав G7 и какова их роль в мировой экономике?\",\n",
    "    \"Как работает искусственный интеллект и где он находит применение в современном мире?\",\n",
    "    \"Чем отличается растительное молоко от животного, и какие есть виды растительного молока?\",\n",
    "    \"Какие основные правила этикета следует соблюдать за столом в Японии?\",\n",
    "    \"Каковы последствия глобального потепления для арктических регионов?\",\n",
    "    \"Какие изобретения XX века оказали наибольшее влияние на развитие человечества?\",\n",
    "    \"Что такое темная материя, и почему ее так сложно обнаружить?\"\n",
    "    'напиши сортировку пузырьком на C++',\n",
    "]"
   ]
  },
  {
   "cell_type": "code",
   "execution_count": 235,
   "id": "6b42f6ec-08a4-4db2-91c8-816446f5a495",
   "metadata": {
    "tags": [],
    "vscode": {
     "languageId": "python"
    }
   },
   "outputs": [],
   "source": [
    "clusters_data = {\n",
    "    'trip': trip_questions,\n",
    "    'movie_storyline': movie_storyline_questions,\n",
    "    'movie_places': movie_places_questions,\n",
    "    'city_places': city_places_questions,\n",
    "    'travel_place_info': travel_place_info_questions,\n",
    "    'travel_info': travel_info_questions,\n",
    "    'not_travel': not_travel_questions,\n",
    "}"
   ]
  },
  {
   "cell_type": "markdown",
   "id": "c6e9a806-0626-443e-a518-3e8b0b2cfa8b",
   "metadata": {
    "tags": []
   },
   "source": [
    "#### CentroidRouter"
   ]
  },
  {
   "cell_type": "code",
   "execution_count": 237,
   "id": "cf952d71-9e5f-4f01-a9b0-d62dfd78bc42",
   "metadata": {
    "tags": [],
    "vscode": {
     "languageId": "python"
    }
   },
   "outputs": [],
   "source": [
    "def cosine(A, B):\n",
    "    return np.dot(A,B)/(np.linalg.norm(A)*np.linalg.norm(B))"
   ]
  },
  {
   "cell_type": "code",
   "execution_count": 238,
   "id": "3b41e4bd-3da2-4ae5-8db8-23f0e07b4bca",
   "metadata": {
    "tags": [],
    "vscode": {
     "languageId": "python"
    }
   },
   "outputs": [],
   "source": [
    "@dataclass\n",
    "class Cluster:\n",
    "    centroid: np.ndarray\n",
    "    name: str\n",
    "    \n",
    "class CentroidRouter:\n",
    "    def __init__(self, embedder, sim_func=cosine):\n",
    "        self._clusters = []\n",
    "        self._embedder = embedder\n",
    "        self.sim_func = sim_func\n",
    "    \n",
    "    def fit(self, data: dict[str, list[str]]):\n",
    "        for cluster_name, cluster_questions in data.items():\n",
    "            embeddings = [np.array(self._embedder(q)) for q in cluster_questions]\n",
    "            embeddings_array = np.array(embeddings)\n",
    "            centroid = np.mean(embeddings_array, axis=0)\n",
    "            self._clusters.append(Cluster(centroid=centroid, name=cluster_name))\n",
    "        return self\n",
    "\n",
    "    def predict_one(self, data: str) -> str:\n",
    "        closest = (0.0, self._clusters[0])\n",
    "        data_embeddings = np.array(self._embedder(data))\n",
    "        \n",
    "        for clust in self._clusters:\n",
    "            sim = self.sim_func(data_embeddings, clust.centroid)\n",
    "            if sim > closest[0]:\n",
    "                closest = (sim, clust)\n",
    "        return closest[1].name\n",
    "    \n",
    "    def predict(self, data: list[str]) -> list[str]:\n",
    "        return list([self.predict_one(e) for e in data])\n",
    "        \n",
    "    def __call__(self, data: str) -> str:\n",
    "        return self.predict([data])[0]"
   ]
  },
  {
   "cell_type": "code",
   "execution_count": 239,
   "id": "8fb1d49f-f82a-4df4-ac9d-2d742a9ea5a1",
   "metadata": {
    "tags": [],
    "vscode": {
     "languageId": "python"
    }
   },
   "outputs": [],
   "source": [
    "centroid_router = CentroidRouter(miniLM_embedder).fit(clusters_data)"
   ]
  },
  {
   "cell_type": "markdown",
   "id": "5132fcd5-1fa5-49f3-8948-1a90d577c436",
   "metadata": {
    "tags": []
   },
   "source": [
    "#### test"
   ]
  },
  {
   "cell_type": "code",
   "execution_count": 241,
   "id": "b62fdda8-2741-40ef-92dc-0badfbd82257",
   "metadata": {
    "tags": [],
    "vscode": {
     "languageId": "python"
    }
   },
   "outputs": [],
   "source": [
    "# centroid_router.predict(['напиши сортировку пузырьком']), centroid_router.predict(['Где в можно вкусно пообедать']), centroid_router('Где в можно вкусно пообедать')"
   ]
  },
  {
   "cell_type": "markdown",
   "id": "33e03b8f-2c09-4ad7-ae03-e616518884b8",
   "metadata": {
    "tags": []
   },
   "source": [
    "### Combined router"
   ]
  },
  {
   "cell_type": "code",
   "execution_count": 243,
   "id": "7c368e57-2a2f-452d-b2ea-e02977c85ec6",
   "metadata": {
    "tags": [],
    "vscode": {
     "languageId": "python"
    }
   },
   "outputs": [],
   "source": [
    "# class CombinedRouter:\n",
    "#     def __init__(self, keyword_router, centroid_router):\n",
    "#         self._keyword_router = keyword_router\n",
    "#         self._centroid_router = centroid_router\n",
    "        \n",
    "#     def __call__(self, input_txt: str) -> str:\n",
    "#         route = self._keyword_router(input_txt)\n",
    "#         if route == self._keyword_router._default:\n",
    "#             return self._centroid_router([input_txt])\n",
    "#         return route\n",
    "    \n",
    "#     def __or__(self, input_txt: str) -> str:\n",
    "#         return self(input_txt)\n",
    "    \n",
    "#     def __ror__(self, input_txt: str) -> str:\n",
    "#         return self(input_txt)\n",
    "    \n",
    "# combined_router = CombinedRouter(keyword_router, centroid_router)"
   ]
  },
  {
   "cell_type": "markdown",
   "id": "70597b4a-c948-4bc6-a260-61a0a24e7e9a",
   "metadata": {},
   "source": [
    "#### test"
   ]
  },
  {
   "cell_type": "code",
   "execution_count": 245,
   "id": "2c35eee1-66ac-4acc-8fbd-2b880287d9b6",
   "metadata": {
    "vscode": {
     "languageId": "python"
    }
   },
   "outputs": [],
   "source": [
    "# (\n",
    "#     combined_router('напиши сортировку пузырьком'), \n",
    "#     combined_router('Где в можно вкусно пообедать'),\n",
    "# )"
   ]
  },
  {
   "cell_type": "markdown",
   "id": "ffd29ccc-1754-40ea-98c7-34c655d8c596",
   "metadata": {
    "tags": [],
    "toc-hr-collapsed": true
   },
   "source": [
    "## Corrector"
   ]
  },
  {
   "cell_type": "code",
   "execution_count": 247,
   "id": "ac19c910-2a1e-4169-beb8-44b4cc139971",
   "metadata": {
    "vscode": {
     "languageId": "python"
    }
   },
   "outputs": [],
   "source": [
    "from langchain.chains.graph_qa import cypher_utils\n",
    "\n",
    "class CypherQueryCorrector(Chainable):    \n",
    "    def __init__(self, graph):\n",
    "        self._graph = graph\n",
    "        self._query_corrector = None\n",
    "        self._set_or_update_query_corrector()\n",
    "        \n",
    "\n",
    "    def _set_or_update_query_corrector(self):\n",
    "        corrector_schema = [\n",
    "            cypher_utils.Schema(element[\"start\"], element[\"type\"], element[\"end\"])\n",
    "            for element in self._graph.structured_schema.get(\"relationships\")\n",
    "        ]\n",
    "        self._query_corrector = cypher_utils.CypherQueryCorrector(corrector_schema)\n",
    "\n",
    "    def __call__(self, query: str) -> str:\n",
    "        logger.info(f'CypherQueryCorrector: {query=}')\n",
    "        query = query.replace('`', '').strip()\n",
    "        return self._query_corrector(query)\n",
    "\n",
    "cypher_query_corrector = CypherQueryCorrector(graph)"
   ]
  },
  {
   "cell_type": "markdown",
   "id": "a117dcbf-2a9f-4bc7-89b8-15af3900c303",
   "metadata": {
    "tags": []
   },
   "source": [
    "#### test"
   ]
  },
  {
   "cell_type": "code",
   "execution_count": 249,
   "id": "bdfd3a88-ab31-4b0f-9bb6-276f6705796e",
   "metadata": {
    "vscode": {
     "languageId": "python"
    }
   },
   "outputs": [],
   "source": [
    "# generated_cypher = '**match (n:Place {category: \"food\"})-[]-(t:Keyword {type_: \"LOC\", text: \"санкт-петербург\"}) return n**'\n",
    "# generated_cypher = cypher_query_corrector(generated_cypher)\n",
    "# generated_cypher"
   ]
  },
  {
   "cell_type": "markdown",
   "id": "9102c489-2746-47db-a094-afda5ac8f2f5",
   "metadata": {
    "tags": [],
    "toc-hr-collapsed": true
   },
   "source": [
    "## Nodes Printer"
   ]
  },
  {
   "cell_type": "code",
   "execution_count": 251,
   "id": "e52bb88f-0aa5-4fe2-9351-86dd37b4dcd9",
   "metadata": {
    "tags": [],
    "vscode": {
     "languageId": "python"
    }
   },
   "outputs": [],
   "source": [
    "class Neo4jPrinter(Chainable):\n",
    "    def _parse_unsupported(self, vals: dict) -> str:\n",
    "        return ''\n",
    "        \n",
    "    def _print_place(self, vals: dict) -> str:\n",
    "        return f\"{vals['title']}, находится по адресу: {vals['address']} \\n\"\n",
    "    \n",
    "    def _print_doc(self, vals: dict) -> str:\n",
    "        text = vals['text']\n",
    "        if len(text) > 2000:\n",
    "            text = ''\n",
    "        return f\"{vals['title']}\\n{text}\"\n",
    "    \n",
    "    def _print_span(self, vals: dict) -> str:\n",
    "        return f\"{vals['text']}\"\n",
    "    \n",
    "    def __call__(self, vals: dict) -> str:\n",
    "        resp = ''\n",
    "        for ent in vals:\n",
    "            match ent:\n",
    "                case {'address': _}:\n",
    "                    resp += self._print_place(ent)\n",
    "                case {'link': _}:\n",
    "                    resp += self._print_doc(ent)\n",
    "                case {'text': _}:\n",
    "                    resp += self._print_span(ent)\n",
    "                case _:\n",
    "                    resp += self._parse_unsupported(ent)\n",
    "        return resp\n",
    "\n",
    "n4j_printer = Neo4jPrinter()"
   ]
  },
  {
   "cell_type": "markdown",
   "id": "6719aa8d-43e1-4c0f-8e19-3ded99fc7cbf",
   "metadata": {
    "tags": []
   },
   "source": [
    "#### test"
   ]
  },
  {
   "cell_type": "code",
   "execution_count": 253,
   "id": "4a35508b-ab67-41af-9a2b-f0aa2fb691f0",
   "metadata": {
    "vscode": {
     "languageId": "python"
    }
   },
   "outputs": [],
   "source": [
    "# print(n4j_printer(test_resp))"
   ]
  },
  {
   "cell_type": "markdown",
   "id": "f86779d3-f5d4-4adb-a33b-543a013e2fab",
   "metadata": {},
   "source": [
    "## Limit selector"
   ]
  },
  {
   "cell_type": "code",
   "execution_count": 255,
   "id": "e16204d7-99c1-4d49-8159-d93a925087f8",
   "metadata": {
    "tags": [],
    "vscode": {
     "languageId": "python"
    }
   },
   "outputs": [],
   "source": [
    "class LimitSelector:\n",
    "    def __init__(self, limit: int):\n",
    "        self._limit = limit\n",
    "        \n",
    "    def __call__(self, nodes):\n",
    "        return nodes[:self._limit]"
   ]
  },
  {
   "cell_type": "markdown",
   "id": "928a9e3c-a62c-4892-8709-14312f0b980c",
   "metadata": {
    "tags": [],
    "toc-hr-collapsed": true
   },
   "source": [
    "## Relevance sorter"
   ]
  },
  {
   "cell_type": "markdown",
   "id": "92b64036-e65d-4bf5-8b3c-ae171d78d41d",
   "metadata": {
    "tags": []
   },
   "source": [
    "#### Sorter"
   ]
  },
  {
   "cell_type": "code",
   "execution_count": 258,
   "id": "45ab1f10-e4ac-47ec-9798-395016c24f6a",
   "metadata": {
    "tags": [],
    "vscode": {
     "languageId": "python"
    }
   },
   "outputs": [],
   "source": [
    "config_params = {\n",
    "    'raw': {\n",
    "        'biased_rating': 100,\n",
    "        'fill_score': 10,\n",
    "        'review_count': 30, #20\n",
    "        # 'worktime_is_24x7': 10, #5\n",
    "        'is_accessable': 15, #5\n",
    "        'is_modern': 10, #5\n",
    "        'has_wifi': 15, #5\n",
    "        'has_music': 5,\n",
    "        'contact_social_len': 3,\n",
    "        'phone_len': 2,\n",
    "        'photos_len': 5,\n",
    "        'has_website': 5,\n",
    "    },\n",
    "    'meta': {\n",
    "        'category_weights': {\n",
    "            'food': 7,\n",
    "            'services': 6,\n",
    "            'religious': 5,\n",
    "            'shopping': 4,\n",
    "            'recreation': 3,\n",
    "            'entertainment': 2,\n",
    "            'sports': 1,\n",
    "        },\n",
    "        'category': 10,\n",
    "        'distance': 50,\n",
    "    },\n",
    "}\n",
    "\n",
    "def opt_print(v, must):\n",
    "    if must:\n",
    "        print(v)\n",
    "\n",
    "class RelevanceSorter(Chainable):\n",
    "    def __init__(self, config):\n",
    "        self.config = config\n",
    "\n",
    "    def get_score(self, node, verbose=False):\n",
    "        score = 0.0\n",
    "\n",
    "        # считаем по прямым фичам в форе\n",
    "        for param_name, weight in self.config['raw'].items():\n",
    "            opt_print(f'{param_name} {node[param_name] * weight}', verbose)\n",
    "            score += node[param_name] * weight\n",
    "        opt_print(f'raw {score=}', verbose)\n",
    "\n",
    "        # считаем оценку с учетом цели поездки\n",
    "        category_score = self.config['meta']['category_weights'][node['category']] / 7\n",
    "        category_score *= self.config['meta']['category']\n",
    "        opt_print(f'{category_score=}', verbose)\n",
    "\n",
    "        # итоговая оценка это оценка \"прямых\" фич, расстояния и веса категории\n",
    "        return sum([score, category_score])\n",
    "    \n",
    "    def select(self, nodes: list[dict]):\n",
    "        nodes = map(lambda n: {\n",
    "            'score': self.get_score(n),\n",
    "            **n,\n",
    "        }, nodes)\n",
    "        return sorted(nodes, reverse=True, key=lambda n: n['score'])\n",
    "\n",
    "    def __call__(self, nodes: list[dict]):\n",
    "        return self.select(nodes)\n",
    "    \n",
    "relevance_sorter = RelevanceSorter(config_params)"
   ]
  },
  {
   "cell_type": "markdown",
   "id": "089b3322-1d74-49e8-8505-e27ffe6c9855",
   "metadata": {
    "tags": []
   },
   "source": [
    "#### test"
   ]
  },
  {
   "cell_type": "code",
   "execution_count": 260,
   "id": "3f719699-8e1a-4b4a-9c03-a593d981aa75",
   "metadata": {
    "tags": [],
    "vscode": {
     "languageId": "python"
    }
   },
   "outputs": [],
   "source": [
    "# relevance_sorter(test_resp), relevance_sorter | test_resp"
   ]
  },
  {
   "cell_type": "markdown",
   "id": "83726588-2b10-4a4f-8c24-e776991fbb1c",
   "metadata": {
    "tags": [],
    "toc-hr-collapsed": true
   },
   "source": [
    "## Utils"
   ]
  },
  {
   "cell_type": "markdown",
   "id": "ebf06ef0-8bfa-4c13-a180-80710c4df463",
   "metadata": {
    "tags": []
   },
   "source": [
    "### Logger"
   ]
  },
  {
   "cell_type": "code",
   "execution_count": 263,
   "id": "4fa76395-df99-4858-9c64-ef54ff36403a",
   "metadata": {
    "tags": [],
    "vscode": {
     "languageId": "python"
    }
   },
   "outputs": [],
   "source": [
    "# class InputLogger(Chainable):\n",
    "#     def __call__(self, params):\n",
    "#         logger.info(f'{params=}')\n",
    "#         return params\n",
    "    \n",
    "# input_logger = InputLogger()"
   ]
  },
  {
   "cell_type": "markdown",
   "id": "e40f8e7b-a405-4567-9870-7ecfbb001701",
   "metadata": {
    "tags": []
   },
   "source": [
    "### Getter"
   ]
  },
  {
   "cell_type": "code",
   "execution_count": 265,
   "id": "4a0e8972-a543-4218-b097-688e783e9ece",
   "metadata": {
    "tags": [],
    "vscode": {
     "languageId": "python"
    }
   },
   "outputs": [],
   "source": [
    "class Getter(Chainable):\n",
    "    def __init__(self):\n",
    "        self.target = None\n",
    "        \n",
    "    def __init__(self, getter=None):\n",
    "        self.target = None\n",
    "        self.getter = getter\n",
    "        \n",
    "    def __call__(self, params):\n",
    "        if not self.target:\n",
    "            return self.getter(params)\n",
    "        return self.target(self.getter(params))\n",
    "    \n",
    "    def __or__(self, target):\n",
    "        self.target = target\n",
    "        return self"
   ]
  },
  {
   "cell_type": "markdown",
   "id": "49f48580-a4a6-4a55-b084-a0521b46a3de",
   "metadata": {
    "tags": []
   },
   "source": [
    "### Map"
   ]
  },
  {
   "cell_type": "code",
   "execution_count": 267,
   "id": "5bc1bb9c-7ad4-4872-8ff0-fd1ea96c10ae",
   "metadata": {
    "vscode": {
     "languageId": "python"
    }
   },
   "outputs": [],
   "source": [
    "class Map(Chainable):\n",
    "    def __init__(self, key, runnable):\n",
    "        self.runnable = runnable\n",
    "        self.key = key\n",
    "        \n",
    "    def __call__(self, params):\n",
    "        params[self.key] = self.runnable(params[self.key])\n",
    "        return params"
   ]
  },
  {
   "cell_type": "markdown",
   "id": "bb12fe6f-db2e-4b72-86b2-0d20cbc8bcca",
   "metadata": {},
   "source": [
    "### Optional map"
   ]
  },
  {
   "cell_type": "code",
   "execution_count": 269,
   "id": "1979b7b3-a088-4627-b835-1de031691a9f",
   "metadata": {
    "vscode": {
     "languageId": "python"
    }
   },
   "outputs": [],
   "source": [
    "class OptionalMap:\n",
    "    def __init__(self, key, runnable, criteria):\n",
    "        self.key = key\n",
    "        self.runnable = runnable\n",
    "        self.criteria = criteria\n",
    "        \n",
    "    def __call__(self, params):\n",
    "        if self.criteria(params):\n",
    "            return self.runnable(params)\n",
    "        return params[self.key]"
   ]
  },
  {
   "cell_type": "markdown",
   "id": "36da060e-5517-4aa0-9fda-27cf6997b3b8",
   "metadata": {
    "tags": []
   },
   "source": [
    "### Nothing chain"
   ]
  },
  {
   "cell_type": "code",
   "execution_count": 271,
   "id": "4d875484-ce05-4a42-b00d-1741315735ce",
   "metadata": {
    "tags": [],
    "vscode": {
     "languageId": "python"
    }
   },
   "outputs": [],
   "source": [
    "class DoNothing(Chainable):\n",
    "    def __call__(self, params):\n",
    "        return params"
   ]
  },
  {
   "cell_type": "markdown",
   "id": "ff4498fc-40d1-4864-a44a-111e29b21515",
   "metadata": {
    "tags": []
   },
   "source": [
    "### Response"
   ]
  },
  {
   "cell_type": "code",
   "execution_count": 273,
   "id": "0e4abf2d-405a-4774-a6f6-0855ced4b856",
   "metadata": {
    "vscode": {
     "languageId": "python"
    }
   },
   "outputs": [],
   "source": [
    "# class BadResp:\n",
    "#     def __call__(self, _):\n",
    "#         return 'ops'"
   ]
  },
  {
   "cell_type": "markdown",
   "id": "dd379ea1-c5e9-4948-8303-1998460dc896",
   "metadata": {
    "tags": []
   },
   "source": [
    "## Chain"
   ]
  },
  {
   "cell_type": "code",
   "execution_count": 275,
   "id": "0636ce5e-73ea-4951-8716-0803169af783",
   "metadata": {
    "tags": [],
    "vscode": {
     "languageId": "python"
    }
   },
   "outputs": [],
   "source": [
    "llm = yallm\n",
    "assigner = RunnablePassthrough.assign"
   ]
  },
  {
   "cell_type": "markdown",
   "id": "975d3585-8231-496e-94fe-d944eea050bd",
   "metadata": {
    "jp-MarkdownHeadingCollapsed": true,
    "tags": []
   },
   "source": [
    "#### fake llm"
   ]
  },
  {
   "cell_type": "code",
   "execution_count": 277,
   "id": "830649c6-a0df-41ae-a23e-755ac18407f3",
   "metadata": {
    "tags": [],
    "vscode": {
     "languageId": "python"
    }
   },
   "outputs": [],
   "source": [
    "# class FakeQueryLLM(LLM):\n",
    "#     @property\n",
    "#     def _llm_type(self) -> str:\n",
    "#         return \"custom\"\n",
    "\n",
    "#     def _call(\n",
    "#         self,\n",
    "#         prompt: str,\n",
    "#         stop: typing.Optional[list[str]] = None,\n",
    "#         run_manager: typing.Optional[CallbackManagerForLLMRun] = None,\n",
    "#         **kwargs: typing.Any,\n",
    "#     ) -> str:\n",
    "#         return test_cypher\n",
    "    \n",
    "# class FakeResponseLLM(LLM):\n",
    "\n",
    "#     @property\n",
    "#     def _llm_type(self) -> str:\n",
    "#         return \"custom\"\n",
    "\n",
    "#     def _call(\n",
    "#         self,\n",
    "#         prompt: str,\n",
    "#         stop: typing.Optional[list[str]] = None,\n",
    "#         run_manager: typing.Optional[CallbackManagerForLLMRun] = None,\n",
    "#         **kwargs: typing.Any,\n",
    "#     ) -> str:\n",
    "#         return f'FakeResponseLLM: {prompt}'\n",
    "    \n",
    "# qllm = FakeQueryLLM()\n",
    "# rllm = FakeResponseLLM()"
   ]
  },
  {
   "cell_type": "markdown",
   "id": "0e18f971-e906-4a1d-bd07-4864f5826a58",
   "metadata": {
    "tags": []
   },
   "source": [
    "### No data chain"
   ]
  },
  {
   "cell_type": "code",
   "execution_count": 279,
   "id": "ceaeaf4b-b809-4b4b-a073-c18d5f564c5a",
   "metadata": {
    "tags": [],
    "vscode": {
     "languageId": "python"
    }
   },
   "outputs": [],
   "source": [
    "no_data_chain = assigner(response=no_data_response_prompt | llm)"
   ]
  },
  {
   "cell_type": "markdown",
   "id": "a70d0a05-876f-4f57-81cf-cdd9ad893cd8",
   "metadata": {
    "jp-MarkdownHeadingCollapsed": true,
    "tags": []
   },
   "source": [
    "#### test"
   ]
  },
  {
   "cell_type": "code",
   "execution_count": 281,
   "id": "cc3b45ac-bea7-493f-be11-4ea786b1ee85",
   "metadata": {
    "tags": [],
    "vscode": {
     "languageId": "python"
    }
   },
   "outputs": [],
   "source": [
    "# q = 'где есть банкоматы в центре Санкт-Петербурга?'\n",
    "# t = no_data_chain.invoke({\n",
    "#     'input': q,\n",
    "#     'question': q,\n",
    "#     'tagged_question': 'где есть банкоматы в центре <LOC>санкт-петербург<LOC>?',\n",
    "# })\n",
    "# t"
   ]
  },
  {
   "cell_type": "markdown",
   "id": "92633a99-b6c4-4564-afcc-4c7038bed373",
   "metadata": {
    "tags": []
   },
   "source": [
    "### Not travel chain"
   ]
  },
  {
   "cell_type": "code",
   "execution_count": 283,
   "id": "26d7fff5-9203-4d29-a514-4da994a05a9a",
   "metadata": {
    "vscode": {
     "languageId": "python"
    }
   },
   "outputs": [],
   "source": [
    "not_travel_chain = assigner(response=not_travel_response_prompt | llm)"
   ]
  },
  {
   "cell_type": "markdown",
   "id": "fce5e087-5e2e-4043-a9a0-8cdae62f763c",
   "metadata": {
    "jp-MarkdownHeadingCollapsed": true,
    "tags": []
   },
   "source": [
    "#### test"
   ]
  },
  {
   "cell_type": "code",
   "execution_count": 285,
   "id": "1c54d62a-28fb-4a0d-b5a3-1a833a824e56",
   "metadata": {
    "tags": [],
    "vscode": {
     "languageId": "python"
    }
   },
   "outputs": [],
   "source": [
    "# q = 'напиши сортировку пузырьком на C++'\n",
    "# t = not_travel_chain.invoke({\n",
    "#     'input': q,\n",
    "#     'question': q,\n",
    "#     'tagged_question': q,\n",
    "# })\n",
    "# t"
   ]
  },
  {
   "cell_type": "markdown",
   "id": "69fac8d8-4bc2-4584-88fb-5c737af6ac3b",
   "metadata": {
    "tags": []
   },
   "source": [
    "### Preprocessing chain"
   ]
  },
  {
   "cell_type": "code",
   "execution_count": 287,
   "id": "9dff977b-5744-4eb3-907c-c84ef1a3efe8",
   "metadata": {
    "tags": [],
    "vscode": {
     "languageId": "python"
    }
   },
   "outputs": [],
   "source": [
    "preprocessing_chain = (\n",
    "    assigner(question=Getter(itemgetter('input')))\n",
    "    | assigner(entities=lambda p: spacy_extractor(p['question']))\n",
    "    | assigner(keywords=lambda p: keyworder(p['entities']))\n",
    "    | assigner(tagged_question=lambda p: tagger(p['question'],p['entities']))\n",
    "    | assigner(embedds=Getter(itemgetter('question')) | input_embedder)\n",
    ")"
   ]
  },
  {
   "cell_type": "markdown",
   "id": "a2640a12-6b19-4fac-80ef-6cabf3abf49e",
   "metadata": {
    "jp-MarkdownHeadingCollapsed": true,
    "tags": []
   },
   "source": [
    "#### test"
   ]
  },
  {
   "cell_type": "code",
   "execution_count": 289,
   "id": "515d093b-afb9-4e1c-9d76-d5041b0eab5b",
   "metadata": {
    "tags": [],
    "vscode": {
     "languageId": "python"
    }
   },
   "outputs": [],
   "source": [
    "# q = 'Какое задание Данила получает от своего брата Виктора, также известного как Татарин?'\n",
    "# t = preprocessing_chain.invoke({'input': q})\n",
    "# t.keys()"
   ]
  },
  {
   "cell_type": "code",
   "execution_count": 290,
   "id": "a07255a0-b471-4b4b-b2c8-50b6e64be36b",
   "metadata": {
    "tags": [],
    "vscode": {
     "languageId": "python"
    }
   },
   "outputs": [],
   "source": [
    "# t['tagged_question']"
   ]
  },
  {
   "cell_type": "markdown",
   "id": "09c94ac0-4610-490b-a8d5-3b387b3901e2",
   "metadata": {
    "tags": []
   },
   "source": [
    "### HyDE chain"
   ]
  },
  {
   "cell_type": "code",
   "execution_count": 292,
   "id": "eaa5383c-97bc-45df-82b9-8f4598977335",
   "metadata": {
    "tags": [],
    "vscode": {
     "languageId": "python"
    }
   },
   "outputs": [],
   "source": [
    "def make_hyde_embeddings(answers_text, embedder):\n",
    "    answers = answers_text.split(';')\n",
    "    return [embedder(ans) for ans in answers]"
   ]
  },
  {
   "cell_type": "code",
   "execution_count": 293,
   "id": "59b54a59-57ea-45e8-bf02-abafd9a7c2c7",
   "metadata": {
    "tags": [],
    "vscode": {
     "languageId": "python"
    }
   },
   "outputs": [],
   "source": [
    "hyde_chain = (\n",
    "    assigner(answers=hyde_query_prompt | llm)\n",
    "    | assigner(hyde_embeddings=lambda p: make_hyde_embeddings(p['answers'], input_embedder))\n",
    "    | assigner(nodes=lambda p: vector_querier.query_many(p['hyde_embeddings']))\n",
    ")"
   ]
  },
  {
   "cell_type": "markdown",
   "id": "b19071cd-d048-4b9d-8a10-15ea80b2b09c",
   "metadata": {
    "jp-MarkdownHeadingCollapsed": true,
    "tags": []
   },
   "source": [
    "#### test"
   ]
  },
  {
   "cell_type": "code",
   "execution_count": 295,
   "id": "ccb5e3b3-cc3c-4321-a009-4701d3867563",
   "metadata": {
    "tags": [],
    "vscode": {
     "languageId": "python"
    }
   },
   "outputs": [],
   "source": [
    "# test_chain = hyde_chain\n",
    "# q = 'Какое задание Данила получает от своего брата Виктора, также известного как Татарин в фильме Брат?'\n",
    "# t = test_chain.invoke({'question': q})\n",
    "# t.keys()"
   ]
  },
  {
   "cell_type": "code",
   "execution_count": 296,
   "id": "41aaa88f-dd7c-4f45-be92-8ddbcd0acd38",
   "metadata": {
    "tags": [],
    "vscode": {
     "languageId": "python"
    }
   },
   "outputs": [],
   "source": [
    "# str(t['nodes'])[:100]"
   ]
  },
  {
   "cell_type": "code",
   "execution_count": 297,
   "id": "0b61e500-8105-406c-86c1-f85e59fcf63a",
   "metadata": {
    "tags": [],
    "vscode": {
     "languageId": "python"
    }
   },
   "outputs": [],
   "source": [
    "# t['answers'].split(';')"
   ]
  },
  {
   "cell_type": "markdown",
   "id": "768b5d4b-d588-4d9c-b082-5953dc57962c",
   "metadata": {
    "tags": []
   },
   "source": [
    "### Deepsearch"
   ]
  },
  {
   "cell_type": "code",
   "execution_count": 299,
   "id": "79a35bd8-cf72-4905-88bd-b8b1f7cb56c0",
   "metadata": {
    "tags": [],
    "vscode": {
     "languageId": "python"
    }
   },
   "outputs": [],
   "source": [
    "class FakeQuerier:\n",
    "    def __init__(self, resp):\n",
    "        self.resp = resp\n",
    "        \n",
    "    def __call__(self, *q):\n",
    "        print(str(q)[:100])\n",
    "        return self.resp\n",
    "    \n",
    "fake_q_0 = FakeQuerier([])\n",
    "fake_q_1 = FakeQuerier([{}])"
   ]
  },
  {
   "cell_type": "code",
   "execution_count": 300,
   "id": "2d822ee9-a6c8-4bb1-8860-5d53f174b18e",
   "metadata": {
    "tags": [],
    "vscode": {
     "languageId": "python"
    }
   },
   "outputs": [],
   "source": [
    "deepsearch_chain = (\n",
    "    assigner(nodes=lambda p: hybrid_querier(p['embedds'], p['keywords']))\n",
    "    | assigner(nodes=OptionalMap(\n",
    "        'nodes',\n",
    "        runnable=lambda p: vector_querier(p['embedds']),\n",
    "        criteria=lambda p: len(p['nodes']) == 0,\n",
    "    ))\n",
    "    | RunnableBranch(\n",
    "        (lambda v: len(v[\"nodes\"]) == 0, hyde_chain),\n",
    "        DoNothing(),\n",
    "    )\n",
    ")"
   ]
  },
  {
   "cell_type": "markdown",
   "id": "610acf4e-f440-4d86-ad09-b853bcc09894",
   "metadata": {
    "jp-MarkdownHeadingCollapsed": true,
    "tags": []
   },
   "source": [
    "#### test"
   ]
  },
  {
   "cell_type": "code",
   "execution_count": 302,
   "id": "a219df3f-06f8-4995-9e01-8fb12e803481",
   "metadata": {
    "tags": [],
    "vscode": {
     "languageId": "python"
    }
   },
   "outputs": [],
   "source": [
    "# test_chain = preprocessing_chain | deepsearch_chain\n",
    "# q = 'Какое задание Данила получает от своего брата Виктора, также известного как Татарин в фильме Брат?'\n",
    "# t = test_chain.invoke({'input': q})\n",
    "# t.keys()"
   ]
  },
  {
   "cell_type": "code",
   "execution_count": 303,
   "id": "0d7030e9-1805-43c3-82e6-9f8c89d72515",
   "metadata": {
    "tags": [],
    "vscode": {
     "languageId": "python"
    }
   },
   "outputs": [],
   "source": [
    "# str(t['nodes'])[:100]"
   ]
  },
  {
   "cell_type": "markdown",
   "id": "1b42dc3b-40fb-47f9-b90b-26487232d8f7",
   "metadata": {
    "tags": []
   },
   "source": [
    "### Place chain"
   ]
  },
  {
   "cell_type": "code",
   "execution_count": 305,
   "id": "1efe1c60-29f8-4124-93fb-f125ec0194a1",
   "metadata": {
    "tags": [],
    "vscode": {
     "languageId": "python"
    }
   },
   "outputs": [],
   "source": [
    "place_response_chain = (\n",
    "    assigner(nodes=Getter(itemgetter('nodes'))| LimitSelector(10))\n",
    "    | assigner(additional_info=Getter(itemgetter('nodes'))| n4j_printer)\n",
    "    | assigner(response=places_response_prompt | llm)\n",
    ")\n",
    "\n",
    "place_response_branch = RunnableBranch(\n",
    "    (lambda v: len(v[\"nodes\"]) > 0, place_response_chain),\n",
    "    no_data_chain,\n",
    ")\n",
    "\n",
    "place_chain = (\n",
    "    assigner(generated_query=places_query_prompt | llm)\n",
    "    | assigner(query=Getter(itemgetter('generated_query')) | cypher_query_corrector)\n",
    "    | assigner(nodes=Getter(itemgetter('query')) | graph_querier)\n",
    "    | assigner(nodes=Getter(itemgetter('nodes'))| relevance_sorter)\n",
    "    | place_response_branch\n",
    ")"
   ]
  },
  {
   "cell_type": "markdown",
   "id": "3d315acc-6ff2-449e-b6ef-3867d826e4cd",
   "metadata": {
    "jp-MarkdownHeadingCollapsed": true,
    "tags": []
   },
   "source": [
    "#### test"
   ]
  },
  {
   "cell_type": "code",
   "execution_count": 307,
   "id": "e57cc234-6606-46b7-9696-4de65f3b4964",
   "metadata": {
    "tags": [],
    "vscode": {
     "languageId": "python"
    }
   },
   "outputs": [],
   "source": [
    "# q = 'где хорошо поесть в Санкт-Петербурге?'\n",
    "# t = place_chain.invoke({\n",
    "#     'input': q,\n",
    "#     'question': q,\n",
    "#     'tagged_question': 'где хорошо поесть в <LOC>санкт-петербург<LOC>?',\n",
    "#     'graph_schema': graph.schema, \n",
    "#     'options': PLACES_OPTIONS,\n",
    "#     'example': TRIP_EXAMPLE,\n",
    "# })\n",
    "# t"
   ]
  },
  {
   "cell_type": "code",
   "execution_count": 308,
   "id": "7a255db1-1d17-4785-9d36-ebf74e955530",
   "metadata": {
    "tags": [],
    "vscode": {
     "languageId": "python"
    }
   },
   "outputs": [],
   "source": [
    "# t['additional_info']"
   ]
  },
  {
   "cell_type": "markdown",
   "id": "ee6d9d46-8ae6-4cab-8509-cd330518467a",
   "metadata": {
    "tags": []
   },
   "source": [
    "### Info chain"
   ]
  },
  {
   "cell_type": "code",
   "execution_count": 310,
   "id": "ac3257ef-72c6-4cd4-852b-5c05b730ce2e",
   "metadata": {
    "tags": [],
    "vscode": {
     "languageId": "python"
    }
   },
   "outputs": [],
   "source": [
    "info_response_chain = (\n",
    "    assigner(nodes=Getter(itemgetter('nodes'))| LimitSelector(3))\n",
    "    | assigner(additional_info=Getter(itemgetter('nodes'))| n4j_printer)\n",
    "    | assigner(response=info_response_prompt | llm)\n",
    ")\n",
    "\n",
    "info_response_branch = RunnableBranch(\n",
    "    (lambda v: len(v[\"nodes\"]) > 0, info_response_chain),\n",
    "    no_data_chain,\n",
    ")\n",
    "\n",
    "info_chain = (\n",
    "    deepsearch_chain\n",
    "    | info_response_branch\n",
    ")"
   ]
  },
  {
   "cell_type": "markdown",
   "id": "713d7f05-9a4b-4a49-9d41-af6e535a208a",
   "metadata": {
    "tags": []
   },
   "source": [
    "#### test"
   ]
  },
  {
   "cell_type": "code",
   "execution_count": 312,
   "id": "f79b9915-fe6a-4337-93ae-9182971ea3e6",
   "metadata": {
    "tags": [],
    "vscode": {
     "languageId": "python"
    }
   },
   "outputs": [],
   "source": [
    "# test_chain = preprocessing_chain | info_chain\n",
    "# q = 'Какое задание Данила получает от своего брата Виктора, также известного как Татарин в фильме Брат?'\n",
    "# t = test_chain.invoke({'input': q})\n",
    "# t"
   ]
  },
  {
   "cell_type": "markdown",
   "id": "75ab83d7-d076-4340-a561-809a09ae5e73",
   "metadata": {
    "tags": []
   },
   "source": [
    "### Trip chain"
   ]
  },
  {
   "cell_type": "code",
   "execution_count": 314,
   "id": "d567e0e8-0bfc-40cd-aa18-9c7850b3ebb2",
   "metadata": {
    "tags": [],
    "vscode": {
     "languageId": "python"
    }
   },
   "outputs": [],
   "source": [
    "trip_chain = (\n",
    "    assigner(nodes=lambda _: graph_querier(trip_query))\n",
    "    | assigner(nodes=Getter(itemgetter('nodes'))| relevance_sorter)\n",
    "    | assigner(nodes=Getter(itemgetter('nodes'))| LimitSelector(10))\n",
    "    | assigner(additional_info=Getter(itemgetter('nodes'))| n4j_printer)\n",
    "    | assigner(response=trip_response_prompt | llm)\n",
    ")"
   ]
  },
  {
   "cell_type": "markdown",
   "id": "64669499-d4ea-40db-a7a0-9c312fe8acd6",
   "metadata": {
    "jp-MarkdownHeadingCollapsed": true,
    "tags": []
   },
   "source": [
    "#### test"
   ]
  },
  {
   "cell_type": "code",
   "execution_count": 316,
   "id": "58cb7c41-8396-4d24-958a-9df0f24e6938",
   "metadata": {
    "tags": [],
    "vscode": {
     "languageId": "python"
    }
   },
   "outputs": [],
   "source": [
    "# q = 'спланируй поездку в Санкт-Петербурге'\n",
    "# t = trip_chain.invoke({\n",
    "#     'input': q,\n",
    "#     'question': q,\n",
    "#     'tagged_question': 'спланируй поездку в <LOC>санкт-петербург<LOC>',\n",
    "# })\n",
    "# t.keys()"
   ]
  },
  {
   "cell_type": "markdown",
   "id": "355d1d13-faa0-4515-af38-a73d81d6353f",
   "metadata": {
    "tags": []
   },
   "source": [
    "### Full"
   ]
  },
  {
   "cell_type": "code",
   "execution_count": 318,
   "id": "807bdea2-6dc0-4355-afa7-66700eeca6aa",
   "metadata": {
    "tags": [],
    "vscode": {
     "languageId": "python"
    }
   },
   "outputs": [],
   "source": [
    "routes_branch = RunnableBranch(\n",
    "    (lambda v: v[\"topic\"] in [\"place\", 'city_places'], place_chain),\n",
    "    (lambda v: v[\"topic\"] in [\"info\", 'travel_info', 'movie_storyline', 'movie_places', 'travel_place_info'], info_chain),\n",
    "    (lambda v: v[\"topic\"] in [\"trip\"], trip_chain),\n",
    "    not_travel_chain,\n",
    ")\n",
    "\n",
    "chain = (\n",
    "    assigner(question=Getter(itemgetter('input')))\n",
    "    | preprocessing_chain\n",
    "    | assigner(topic=Getter(itemgetter('question')) | centroid_router)\n",
    "    | routes_branch\n",
    "    | Getter(itemgetter('response'))\n",
    ")\n",
    "\n",
    "def run(q):\n",
    "    try:\n",
    "        return chain.invoke({\n",
    "            'input': q,\n",
    "            'graph_schema': graph.schema, \n",
    "            'options': PLACES_OPTIONS,\n",
    "        })\n",
    "    except Exception as e:\n",
    "        return str(e)"
   ]
  },
  {
   "cell_type": "markdown",
   "id": "83ef01c9-8e23-479a-8a65-5f59bb74b55e",
   "metadata": {
    "tags": []
   },
   "source": [
    "#### test"
   ]
  },
  {
   "cell_type": "code",
   "execution_count": 320,
   "id": "24ade605-9155-4e49-b66f-d522b5dfcd1e",
   "metadata": {
    "tags": [],
    "vscode": {
     "languageId": "python"
    }
   },
   "outputs": [],
   "source": [
    "# template = \"{question}\"\n",
    "# prompt = PromptTemplate.from_template(template)\n",
    "# llm_chain = LLMChain(prompt=prompt, llm=llm)\n",
    "\n",
    "# def runllm(q):\n",
    "#     try:\n",
    "#         question = q\n",
    "#         return llm_chain.invoke(question)\n",
    "#     except Exception as e:\n",
    "#         return str(e)"
   ]
  },
  {
   "cell_type": "code",
   "execution_count": 321,
   "id": "8a3b5938-c231-44ef-a529-e12ee69e08ac",
   "metadata": {
    "tags": [],
    "vscode": {
     "languageId": "python"
    }
   },
   "outputs": [],
   "source": [
    "# q = 'Какое задание Данила получает от своего брата Виктора, также известного как Татарин?'\n",
    "# # q = 'где хорошо поесть в Санкт-Петербурге?'\n",
    "# t = run(q)\n",
    "# #t = runllm(q)"
   ]
  },
  {
   "cell_type": "code",
   "execution_count": 322,
   "id": "0f58d27a-9278-47b7-a6ce-efa84f858115",
   "metadata": {
    "tags": [],
    "vscode": {
     "languageId": "python"
    }
   },
   "outputs": [],
   "source": [
    "# t['topic']"
   ]
  },
  {
   "cell_type": "markdown",
   "id": "9fe9d09e-2507-4c35-a4ed-7714b60d9f27",
   "metadata": {
    "tags": []
   },
   "source": [
    "# Tests"
   ]
  },
  {
   "cell_type": "code",
   "execution_count": 324,
   "id": "da2b9988-d8ac-46ce-879f-84e490844dac",
   "metadata": {
    "tags": [],
    "vscode": {
     "languageId": "python"
    }
   },
   "outputs": [],
   "source": [
    "def print_results(results):\n",
    "    before = '------------------------------------------------------------------------'\n",
    "    after = '========================================================================'\n",
    "    for q, a in results.items():\n",
    "        text = a if issubclass(str, a.__class__) else a[\"response\"]\n",
    "        print(f'{before}\\n{q}:\\n\\n{text}\\n{after}\\n\\n')"
   ]
  },
  {
   "cell_type": "markdown",
   "id": "37d4ea30-7406-41f9-8aa2-c46738345318",
   "metadata": {
    "tags": []
   },
   "source": [
    "## Embeds"
   ]
  },
  {
   "cell_type": "code",
   "execution_count": 326,
   "id": "ada70217-a7c3-484e-90eb-69e5cc14a906",
   "metadata": {
    "tags": [],
    "vscode": {
     "languageId": "python"
    }
   },
   "outputs": [],
   "source": [
    "# title = 'расскажи про Музей «Павловские Колтуши»'\n",
    "# test_embeds = input_embedder.embed(title)\n",
    "# test_embeds[:10]"
   ]
  },
  {
   "cell_type": "code",
   "execution_count": 327,
   "id": "77b7c837-a70e-428e-8545-fce8ef864681",
   "metadata": {
    "vscode": {
     "languageId": "python"
    }
   },
   "outputs": [],
   "source": [
    "# doc_embeddings_query = '''\n",
    "# CALL db.index.vector.queryNodes('doc_embeddings', $limit, $embeddings) \n",
    "# YIELD node, score\n",
    "# MATCH (node)\n",
    "# RETURN \n",
    "#     node.title, \n",
    "#     score\n",
    "# ORDER BY score DESC \n",
    "# '''\n",
    "\n",
    "# span_embeddings_query = '''\n",
    "# CALL db.index.vector.queryNodes('doc_embeddings', $limit, $embeddings) \n",
    "# YIELD node, score\n",
    "# MATCH (node)\n",
    "# RETURN \n",
    "#     node.title, \n",
    "#     score\n",
    "# ORDER BY score DESC \n",
    "# '''\n",
    "\n",
    "# place_embeddings_query = '''\n",
    "# CALL db.index.vector.queryNodes('doc_embeddings', $limit, $embeddings) \n",
    "# YIELD node, score\n",
    "# MATCH (node)\n",
    "# RETURN \n",
    "#     node.title, \n",
    "#     score\n",
    "# ORDER BY score DESC \n",
    "# '''"
   ]
  },
  {
   "cell_type": "code",
   "execution_count": 328,
   "id": "7c15e1f1-0da9-41c0-9f38-c004f130dfa7",
   "metadata": {
    "tags": [],
    "vscode": {
     "languageId": "python"
    }
   },
   "outputs": [],
   "source": [
    "# graph_querier.query(doc_embeddings_query, params={\n",
    "#     'embeddings': test_embeds,\n",
    "#     'limit': 10,\n",
    "# })\n",
    "# # print(query_text)\n",
    "# # conn.query(query_text, parameters)#, test_embeds"
   ]
  },
  {
   "cell_type": "markdown",
   "id": "c3a1d06a-2283-4436-b357-490df26fd00a",
   "metadata": {
    "tags": []
   },
   "source": [
    "## Light"
   ]
  },
  {
   "cell_type": "code",
   "execution_count": 330,
   "id": "7cb0122f-76e4-404c-a60a-8bd95893ab02",
   "metadata": {
    "tags": [],
    "vscode": {
     "languageId": "python"
    }
   },
   "outputs": [
    {
     "name": "stdout",
     "output_type": "stream",
     "text": [
      "GraphQuerier: \n",
      "match (n:Place)\n",
      "where\n",
      "n.category in...\", \"shopping\"]\n",
      "return n\n",
      ", kwargs={}, len(resp)=168\n",
      "\n",
      "# Context\n",
      "I have data about places. I need to ans... \n",
      "\n",
      "# Question\n",
      "Спланируй поездку в Санкт-Петербурге\n",
      "Task:Generate Cypher statement to query a graph da...n\n",
      "Где можно отдохнуть в <LOC>санкт-петербург<LOC>?\n",
      "CypherQueryCorrector: query='match (n:Place {categ...{type_: \"LOC\", text: \"санкт-петербург\"}) return n'\n",
      "GraphQuerier: match (n:Place {category: \"recreatio...нкт-петербург\"}) return n, kwargs={}, len(resp)=42\n",
      "\n",
      "# Context\n",
      "I have data about places. I need to ans...# Question\n",
      "Где можно отдохнуть в Санкт-Петербурге?\n",
      "Task:Generate Cypher statement to query a graph da...estion\n",
      "Где развлечься в <LOC>санкт-петербург<LOC>?\n",
      "CypherQueryCorrector: query='```\\nmatch (n:Place {..._: \"LOC\", text: \"санкт-петербург\"}) return n\\n```'\n",
      "GraphQuerier: match (n:Place {category: \"entertain...нкт-петербург\"}) return n, kwargs={}, len(resp)=42\n",
      "\n",
      "# Context\n",
      "I have data about places. I need to ans...54 \n",
      "\n",
      "# Question\n",
      "Где развлечься в Санкт-Петербурге?\n",
      "GraphQuerier: \n",
      "CALL db.index.vector.queryNodes('sp..., 'score_threshold': 0.2, 'keys': []}, len(resp)=0\n",
      "GraphQuerier: \n",
      "CALL db.index.vector.queryNodes('do..., 'score_threshold': 0.2, 'keys': []}, len(resp)=0\n",
      "GraphQuerier: \n",
      "CALL db.index.vector.queryNodes('do... 'limit': 3, 'score_threshold': 0.75}, len(resp)=2\n",
      "GraphQuerier: \n",
      "CALL db.index.vector.queryNodes('pl... 'limit': 3, 'score_threshold': 0.75}, len(resp)=0\n",
      "GraphQuerier: \n",
      "CALL db.index.vector.queryNodes('sp... 'limit': 3, 'score_threshold': 0.75}, len(resp)=3\n",
      "\n",
      "Task:Generate responce based on question and addi...\"\n",
      "# Question\n",
      "Где происходят события фильма \"Брат\"?\n",
      "GraphQuerier: \n",
      "CALL db.index.vector.queryNodes('sp...threshold': 0.2, 'keys': ['спасать']}, len(resp)=1\n",
      "GraphQuerier: \n",
      "CALL db.index.vector.queryNodes('do...threshold': 0.2, 'keys': ['спасать']}, len(resp)=0\n",
      "\n",
      "Task:Generate responce based on question and addi...ю император.\n",
      "# Question\n",
      "Расскажи про Спас на Крови\n",
      "GraphQuerier: \n",
      "CALL db.index.vector.queryNodes('sp...hreshold': 0.2, 'keys': ['апраксин']}, len(resp)=1\n",
      "GraphQuerier: \n",
      "CALL db.index.vector.queryNodes('do...hreshold': 0.2, 'keys': ['апраксин']}, len(resp)=0\n",
      "\n",
      "Task:Generate responce based on question and addi...нна Маркович\n",
      "# Question\n",
      "Расскажи про Апраксин двор\n",
      "GraphQuerier: \n",
      "CALL db.index.vector.queryNodes('sp..., 'score_threshold': 0.2, 'keys': []}, len(resp)=0\n",
      "GraphQuerier: \n",
      "CALL db.index.vector.queryNodes('do..., 'score_threshold': 0.2, 'keys': []}, len(resp)=0\n",
      "GraphQuerier: \n",
      "CALL db.index.vector.queryNodes('do... 'limit': 3, 'score_threshold': 0.75}, len(resp)=1\n",
      "GraphQuerier: \n",
      "CALL db.index.vector.queryNodes('pl... 'limit': 3, 'score_threshold': 0.75}, len(resp)=1\n",
      "GraphQuerier: \n",
      "CALL db.index.vector.queryNodes('sp... 'limit': 3, 'score_threshold': 0.75}, len(resp)=2\n",
      "\n",
      "Task:Generate responce based on question and addi...кт, 57\n",
      "# Question\n",
      "Расскажи про «Подписные издания»\n",
      "GraphQuerier: \n",
      "CALL db.index.vector.queryNodes('sp...hreshold': 0.2, 'keys': ['павловск']}, len(resp)=0\n",
      "GraphQuerier: \n",
      "CALL db.index.vector.queryNodes('do...hreshold': 0.2, 'keys': ['павловск']}, len(resp)=0\n",
      "GraphQuerier: \n",
      "CALL db.index.vector.queryNodes('do... 'limit': 3, 'score_threshold': 0.75}, len(resp)=3\n",
      "GraphQuerier: \n",
      "CALL db.index.vector.queryNodes('pl... 'limit': 3, 'score_threshold': 0.75}, len(resp)=0\n",
      "GraphQuerier: \n",
      "CALL db.index.vector.queryNodes('sp... 'limit': 3, 'score_threshold': 0.75}, len(resp)=3\n",
      "\n",
      "Task:Generate responce based on question and addi..., хастла, бачаты.\n",
      "# Question\n",
      "Расскажи про Павловск\n",
      "\n",
      "# Context\n",
      "We have received a request outside the ... Но я могу рассказать вам кое-что о путешествиях!\n",
      "\n"
     ]
    }
   ],
   "source": [
    "results = {q: run(q) for q in [\n",
    "    'Спланируй поездку в Санкт-Петербурге',\n",
    "    'Где можно отдохнуть в Санкт-Петербурге?',\n",
    "    'Где развлечься в Санкт-Петербурге?',\n",
    "    'Где происходят события фильма \"Брат\"?',\n",
    "    'Расскажи про Спас на Крови',\n",
    "    'Расскажи про Апраксин двор',\n",
    "    'Расскажи про «Подписные издания»',\n",
    "    'Расскажи про Павловск',\n",
    "    'напиши сортировку пузырьком на C++',\n",
    "]}"
   ]
  },
  {
   "cell_type": "code",
   "execution_count": 331,
   "id": "c2fd04ff-b9f7-4534-90e9-9b4027cbb764",
   "metadata": {
    "tags": [],
    "vscode": {
     "languageId": "python"
    }
   },
   "outputs": [],
   "source": [
    "# results['где сходить в магазин в Питере?']"
   ]
  },
  {
   "cell_type": "code",
   "execution_count": 472,
   "id": "071f8204-0ace-4e8c-a0e4-d4730fb07ca8",
   "metadata": {
    "tags": [],
    "vscode": {
     "languageId": "python"
    }
   },
   "outputs": [
    {
     "name": "stdout",
     "output_type": "stream",
     "text": [
      "------------------------------------------------------------------------\n",
      "Спланируй поездку в Санкт-Петербурге:\n",
      "\n",
      "**День 1**\n",
      "\n",
      "Утро: Начните день с завтрака в Baggins Coffee — уютной кофейне, где можно насладиться чашечкой кофе и выпечкой.\n",
      "\n",
      "День: Посетите культурно-досуговый центр Красногвардейский, чтобы узнать больше о культуре и истории города.\n",
      "\n",
      "Вечер: Устройте ужин в ресторане Jager Meet, который славится своей мясной кухней.\n",
      "\n",
      "**День 2**\n",
      "\n",
      "Утро: Проведите утро, прогуливаясь по торгово-развлекательному комплексу «Лето», где можно сделать покупки и пообедать в одном из кафе.\n",
      "\n",
      "День: Отдохните в парке или саду, наслаждаясь весенним солнцем и свежим воздухом.\n",
      "\n",
      "Вечер: Насладитесь ужином в душевном локальном баре Queens.\n",
      "\n",
      "**День 3**\n",
      "\n",
      "Утро: Посетите пекарню «Кап&Кейк» и попробуйте свежую выпечку.\n",
      "\n",
      "День: Проведите время в одном из музеев или галерей Санкт-Петербурга.\n",
      "\n",
      "Вечер: Завершите день ужином в ресторане грузинской кухни Hurma.\n",
      "\n",
      "Для каждого дня можно предусмотреть альтернативные варианты, учитывая погоду, уровень загруженности мест и предпочтения гостя. Например, если погода будет дождливой, можно заменить прогулку по парку или саду на посещение одного из музеев. Если гость предпочитает более активные дни, можно предложить ему экскурсию по городу или прогулку на велосипеде.\n",
      "\n",
      "Ниже приведены некоторые рекомендации для каждого дня:\n",
      "\n",
      "**Рекомендации для первого дня**\n",
      "\n",
      "* Если вы предпочитаете более активный отдых, можно совершить прогулку по парку имени 50-летия Октября. Это отличное место, чтобы насладиться природой и свежим воздухом, а также покормить уток в пруду.\n",
      "* Если погода солнечная, можно устроить пикник в парке и насладиться весенним солнцем.\n",
      "* После посещения культурно-досугового центра Красногвардейский можно прогуляться по проспекту Металлистов и полюбоваться архитектурой этого района.\n",
      "\n",
      "**Рекомендации для второго дня**\n",
      "\n",
      "* В торговом комплексе «Лето» можно не только пообедать, но и посетить кинотеатр, каток или боулинг.\n",
      "* На территории комплекса есть несколько парков, где можно прогуляться и насладиться весной.\n",
      "* Альтернативой прогулке может стать посещение выставки или концерта.\n",
      "\n",
      "**Рекомендации для третьего дня**\n",
      "\n",
      "* Вместо посещения музея или галереи можно отправиться на прогулку по набережным Санкт-Петербурга, чтобы полюбоваться видами города и сделать красивые фотографии.\n",
      "* Вечером можно посетить один из театров или концертных залов, чтобы завершить день культурной программой.\n",
      "\n",
      "Также стоит учесть, что в Санкт-Петербурге много культурных и сезонных событий, связанных с цветением сакуры. Например, в Ботаническом саду Петра Великого проходит фестиваль «Праздник сакуры», где можно увидеть цветение этих деревьев.\n",
      "\n",
      "Не забудьте добавить в свой план информацию о транспорте и проживании. Для перемещения по городу можно использовать общественный транспорт, такси или каршеринг. Для проживания можно выбрать отель, хостел или апартаменты.\n",
      "\n",
      "Важно учитывать, что это лишь примерный план поездки. Вы можете адаптировать его под свои потребности и предпочтения.\n",
      "========================================================================\n",
      "\n",
      "\n",
      "------------------------------------------------------------------------\n",
      "Где можно отдохнуть в Санкт-Петербурге?:\n",
      "\n",
      "В Санкт-Петербурге можно отдохнуть в самых разных местах, среди которых:\n",
      "\n",
      "— **библиотека №9**, где можно не только почитать книги, но и посетить тематические мероприятия;\n",
      "\n",
      "— **музей истории Кронштадта**, где можно познакомиться с историей города-порта;\n",
      "\n",
      "— **музей русской драмы Александринского театра**, где можно узнать об истории русского театра;\n",
      "\n",
      "— **«Оранэлы»** — музей, посвящённый истории Оранэлы — первой в России пригородно-городской железной дороги;\n",
      "\n",
      "— **Mform**, салон авторских украшений, одежды и аксессуаров, где можно найти уникальные вещи;\n",
      "\n",
      "— **детская библиотека №6 им. В. Г. Короленко**, где есть не только книги для детей, но и различные образовательные мероприятия;\n",
      "\n",
      "—  **мемориальный музей «Разночинный Петербург»**, где можно познакомиться с бытом жителей Петербурга XIX–XX вв.;\n",
      "\n",
      "— **«Сны Фрейда»** — сеть интерактивно-развлекательных аттракционов, где можно весело провести время;\n",
      "\n",
      "— **Maison25**, выставочный зал, где проходят выставки современных художников;\n",
      "\n",
      "— **«Краски жизни»** — художественная галерея, где можно насладиться современным искусством.\n",
      "\n",
      "Это лишь несколько вариантов мест для отдыха в Санкт-Петербурге. Выбор зависит от ваших предпочтений и интересов.\n",
      "========================================================================\n",
      "\n",
      "\n",
      "------------------------------------------------------------------------\n",
      "Где развлечься в Санкт-Петербурге?:\n",
      "\n",
      "В Санкт-Петербурге есть множество мест, где можно развлечься. Вот некоторые из них:\n",
      "\n",
      "* **Красногвардейский, культурно-досуговый центр** — здесь вы сможете посетить концерты, спектакли и другие мероприятия.\n",
      "* **Молодёжный театр на Фонтанке** — театр, где проходят постановки для молодёжи и взрослых.\n",
      "* **Театр юных зрителей им. А.А. Брянцева** — ещё одно место, где вы сможете насладиться театральным искусством.\n",
      "* **Театр Эстрады имени Аркадия Райкина** — здесь проходят концерты, шоу и другие развлекательные мероприятия.\n",
      "* **Tiki Toki, территория праздников** — место, где проводятся детские праздники и дни рождения.\n",
      "* **«Киселёк», семейный ресторан** — вы можете поужинать и отдохнуть в уютной атмосфере этого ресторана.\n",
      "* **Космостанция, арена лазертаг и виртуальной реальности** — современное место для активного отдыха.\n",
      "* **Курт, театр-студия** — экспериментальный театр, где ставятся необычные постановки.\n",
      "* **Упсала-Цирк** — уникальное место, где сочетаются цирковое искусство и социальная работа с молодёжью.\n",
      "* **MIR VR Комендантский** — парк виртуальной реальности, где вы сможете погрузиться в захватывающие миры.\n",
      "\n",
      "Это лишь некоторые из множества мест, где вы можете развлечься в Санкт-Петербурге. Вы можете выбрать то, что вам больше всего нравится, и провести незабываемое время.\n",
      "========================================================================\n",
      "\n",
      "\n",
      "------------------------------------------------------------------------\n",
      "Где происходят события фильма \"Брат\"?:\n",
      "\n",
      "События фильма «Брат» происходят в Санкт-Петербурге.\n",
      "========================================================================\n",
      "\n",
      "\n",
      "------------------------------------------------------------------------\n",
      "Расскажи про Спас на Крови:\n",
      "\n",
      "**Спас на Крови** — уникальный храм, который представляет собой не только религиозное сооружение, но и произведение архитектурного и декоративного искусства. Этот храм имеет особое значение, так как он был возведён на месте трагического события — покушения на императора Александра II, в результате которого он погиб.\n",
      "\n",
      "Храм выполнен в стиле русского архитектурного стиля XIX века, а его внутреннее убранство поражает своей красотой и богатством. В интерьере храма можно увидеть мозаики, росписи, эмали, полудрагоценные камни и другие материалы, которые были использованы для создания неповторимого облика сооружения.\n",
      "\n",
      "Особую ценность представляет часть мостовой, на которой истекал кровью император. Эта часть была сохранена внутри храма и является напоминанием о трагическом событии, которое стало причиной его строительства.\n",
      "\n",
      "Сегодня Спас на Крови — действующий храм, который привлекает множество посетителей своей уникальной историей и архитектурой. Он также является важным памятником истории России и символом трагических событий прошлого.\n",
      "========================================================================\n",
      "\n",
      "\n",
      "------------------------------------------------------------------------\n",
      "Расскажи про Апраксин двор:\n",
      "\n",
      "Апраксин двор — это рынок, расположенный в Санкт-Петербурге. Он находится за крытой аркадой на Садовой улице и является местом, где можно купить практически всё. Однако товар может быть не самого благородного происхождения.\n",
      "\n",
      "Апраксин двор имеет свою историю. Когда-то сюда ходили кухарки аристократических семей и повара столичных ресторанов. Сегодня же рынок посещают все желающие. Несмотря на потрёпанный вид, Апраксин двор продолжает быть популярным местом покупок.\n",
      "\n",
      "Уникальность Апраксина двора заключается в том, что он представляет собой целый мир торговли и разнообразия товаров. Здесь можно найти практически всё, что угодно, но качество и происхождение товаров могут быть разными. Это делает Апраксин двор интересным местом для посещения и изучения.\n",
      "========================================================================\n",
      "\n",
      "\n",
      "------------------------------------------------------------------------\n",
      "Расскажи про «Подписные издания»:\n",
      "\n",
      "«Подписные издания» — это атмосферный книжный магазин в Санкт-Петербурге, который предлагает широкий выбор литературы для всех возрастов и интересов. Здесь можно найти книги на разнообразные темы, изданные в разных форматах и на нескольких языках.\n",
      "\n",
      "Особенностью «Подписных изданий» является возможность не только полистать книги перед покупкой, но и погрузиться в процесс чтения, наслаждаясь уютной атмосферой. В магазине играет приятная музыка, а дружелюбные консультанты всегда рады помочь и поддержать беседу.\n",
      "\n",
      "Кроме того, в «Подписных изданиях» регулярно проводятся лекции, запись на которые быстро расхватывают. Но не стоит расстраиваться, если вы не успели зарегистрироваться — просто приходите в магазин, заказывайте кофе с фирменными булочками и устраивайтесь поудобнее с книгой в кресле на втором этаже.\n",
      "\n",
      "«Подписные издания» расположены по адресу Литейный проспект, 57. Это не просто магазин, а настоящее литературное царство, где каждый найдёт что-то интересное для себя.\n",
      "========================================================================\n",
      "\n",
      "\n",
      "------------------------------------------------------------------------\n",
      "Расскажи про Павловск:\n",
      "\n",
      "**Павловск: наследие науки и искусства**\n",
      "\n",
      "Павловск — это не просто город, это место, где переплетаются история, наука и искусство. Здесь расположен музей «Павловские Колтуши», который стал первым российским музеем сайнс-арт. Этот музей находится в здании, которое когда-то было центром научных исследований под руководством первого нобелевского лауреата от России, физиолога Ивана Павлова.\n",
      "\n",
      "В музее «Новая антропология» представлены работы современных художников, которые рассказывают о биологической науке. Экспозицию музея стоит начинать с конца, с веранды, откуда можно выйти на крышу.\n",
      "\n",
      "Помимо музея, Павловск может предложить множество других интересных мест. В этом городе можно познакомиться с историей России, посетив Петропавловскую крепость, которая была заложена Петром I в 1703 году. В крепости есть скульптура Петра Великого работы художника Михаила Шемякина, а также собор Святых Петра и Павла, усыпальница всех Романовых.\n",
      "\n",
      "Еще одно интересное место в Павловске — Стрелка Васильевского острова. Это мыс Васильевского острова, который обнимают два рукава реки — Большая и Малая Нева. Отсюда открывается великолепный вид на Петропавловскую крепость, Троицкий мост и Дворцовую набережную. Летом здесь можно увидеть множество судов, а по вечерам у ростральных колонн собираются любители танцев.\n",
      "========================================================================\n",
      "\n",
      "\n",
      "------------------------------------------------------------------------\n",
      "напиши сортировку пузырьком на C++:\n",
      "\n",
      "К сожалению, мы не можем помочь вам с этим вопросом, так как он не относится к нашей сфере деятельности.\n",
      "\n",
      "Однако мы всегда готовы предложить свои услуги в области анализа данных и поделиться опытом в этой сфере.\n",
      "\n",
      "Если у вас есть вопросы или задачи, связанные с анализом данных, пожалуйста, обращайтесь!\n",
      "========================================================================\n",
      "\n",
      "\n"
     ]
    }
   ],
   "source": [
    "print_results(results)"
   ]
  },
  {
   "cell_type": "code",
   "execution_count": 333,
   "id": "9a2fa105-19d8-4d37-8f28-76a2dcb4f66d",
   "metadata": {
    "vscode": {
     "languageId": "python"
    }
   },
   "outputs": [],
   "source": [
    "# 'В какие годы происходят события фильма \"Брат\"?"
   ]
  },
  {
   "cell_type": "markdown",
   "id": "afb4ff77-1565-4ad2-8587-92dd0f6f1002",
   "metadata": {
    "tags": []
   },
   "source": [
    "## Benchmark"
   ]
  },
  {
   "cell_type": "code",
   "execution_count": 335,
   "id": "25f11aa1-cb09-4fa7-99b8-62546e32636b",
   "metadata": {
    "tags": [],
    "vscode": {
     "languageId": "python"
    }
   },
   "outputs": [],
   "source": [
    "# brat_storyline = [\n",
    "#     'В какие годы происходят события фильма \"Брат\"?',\n",
    "#     'Куда в самом начале приезжает Данила Багров?',\n",
    "#     'Что стало причиной задержания Данила Багрова в отделении милиции?',\n",
    "#     'Какое задание Данила получает от своего брата Виктора, также известного как Татарин?',\n",
    "#     'Какие обстоятельства привели к знакомству Данилы с Гофманом в Санкт-Петербурге?',\n",
    "#     'Какой поворот сюжета происходит после убийства Чечена по заказу Виктора?',\n",
    "#     'Какие действия предпринимает Данила для спасения Светы и как это влияет на их отношения?',\n",
    "#     'Куда уезжает Данила в конце?',\n",
    "#     'Чем заканчивается история Данилы и его брата Виктора в фильме?',\n",
    "#     'Какова роль музыки и определенных песен в развитии сюжета и характере главного героя?',\n",
    "# ]\n",
    "# brat_places = [\n",
    "#     'расскажи в каких местах в Санкт-Петербурге были съемки Брата?',\n",
    "#     'расскажи какие памятники в Санкт-Петербурге попали в фильма съемки \"Брат\"?',\n",
    "#     'расскажи через какие знаковые места Санкт-Петербурга проходит путь Данилы Багрова в эпизоде с грузовым трамваем?',\n",
    "#     'Где живет брат Данилы?',\n",
    "#     'расскажи про места съемок фильма Брат',\n",
    "# ]\n",
    "# city_places = [\n",
    "#     'где сходить в магазин в Питере?',\n",
    "#     'какие рестораны стоит посетить в Санкт-Петербурге?',\n",
    "#     'где хорошо поесть в Санкт-Петербурге?',\n",
    "#     'где можно отдохнуть в Санкт-Петербурге?',\n",
    "#     'где развлечься в Санкт-Петербурге?',\n",
    "# ]\n",
    "# travel_info = [\n",
    "#     'расскажи про мост со скульптурами «Укрощение коня»',\n",
    "#     'расскажи про конструктивистское здание Научного городка в Санкт-Петербурге',\n",
    "#     'расскажи про музей «Павловские Колтуши»',\n",
    "#     'расскажи про Юсуповский дворец',\n",
    "#     'расскажи где вид с высоты на Петербург',\n",
    "#     'расскажи что такое Стрелка в Петербурге',\n",
    "#     'расскажи когда Невский проспект обрёл нынешний вид',\n",
    "#     'расскажи про атмосферный книжный магазин в Санкт-Петербурге',\n",
    "#     'расскажи про «Подписные издания»',\n",
    "#     'расскажи где было совершено седьмое покушение на Александра II',\n",
    "#     'расскажи про Спас на Крови',\n",
    "#     'расскажи про Павловский пейзажный парк',\n",
    "#     'расскажи про какойнибудь большой парк в стране',\n",
    "#     'расскажи про Мечеть в Петербурге',\n",
    "#     'расскажи что-нибудь про Ладожское озеро',\n",
    "#     'расскажи про Елагин остров',\n",
    "#     'расскажи про Петропавловская крепость',\n",
    "#     'расскажи про Толстовский дом',\n",
    "#     'расскажи про Апраксин двор',\n",
    "#     'расскажи про Павловск',\n",
    "# ]\n",
    "# trip = ['спланируй поездку в Санкт-Петербурге']\n",
    "# bad = ['напиши сортировку пузырьком на C++']\n",
    "\n",
    "\n",
    "# benchmark_questions = brat_storyline + brat_places + city_places + travel_info + trip + bad\n",
    "# benchmark_questions\n",
    "\n",
    "# print(f'''\n",
    "# {len(benchmark_questions)=} \n",
    "# {len(brat_storyline)=} \n",
    "# {len(brat_places)=} \n",
    "# {len(city_places)=} \n",
    "# {len(travel_info)=} \n",
    "# {len(trip)=} \n",
    "# {len(bad)=}\n",
    "# ''')"
   ]
  },
  {
   "cell_type": "code",
   "execution_count": 336,
   "id": "2a0a152c-7666-42cd-adae-5d394524e88e",
   "metadata": {
    "tags": [],
    "vscode": {
     "languageId": "python"
    }
   },
   "outputs": [],
   "source": [
    "# results = {q: runllm(q) for q in benchmark_questions}"
   ]
  },
  {
   "cell_type": "code",
   "execution_count": 337,
   "id": "f416f53e-bfa8-48e3-8b56-e3125e9871bb",
   "metadata": {
    "tags": [],
    "vscode": {
     "languageId": "python"
    }
   },
   "outputs": [],
   "source": [
    "# results = {q: run(q) for q in benchmark_questions}"
   ]
  },
  {
   "cell_type": "code",
   "execution_count": 338,
   "id": "c49af941-a4c8-4805-a51a-ccf1b2d6c429",
   "metadata": {
    "tags": [],
    "vscode": {
     "languageId": "python"
    }
   },
   "outputs": [],
   "source": [
    "# t = '''\n",
    "# '''"
   ]
  },
  {
   "cell_type": "code",
   "execution_count": 339,
   "id": "36ed5e8a-f9e2-4bd2-ada0-c12100cf0c63",
   "metadata": {
    "tags": [],
    "vscode": {
     "languageId": "python"
    }
   },
   "outputs": [],
   "source": [
    "# len([v for v in t.split(' ') if 'len(' in v])"
   ]
  },
  {
   "cell_type": "code",
   "execution_count": 340,
   "id": "2e174189-2b66-42d6-aca5-76653056f9d0",
   "metadata": {
    "tags": [],
    "vscode": {
     "languageId": "python"
    }
   },
   "outputs": [],
   "source": [
    "# def print_retrive_res(results):\n",
    "#     for q, r in results.items():\n",
    "#         print(q)\n",
    "#         if issubclass(dict, r.__class__):\n",
    "#             # print(r.keys())\n",
    "#             if issubclass(list, r['query'].__class__):\n",
    "#                 print(r['query'][:5])\n",
    "#                 print(r['topic'])\n",
    "#                 print(r['nodes'][0])\n",
    "#             else:\n",
    "#                 print(r['query'])\n",
    "#         else:\n",
    "#             print(r)\n",
    "#         print('----------------')\n",
    "\n",
    "# print_retrive_res(results)"
   ]
  },
  {
   "cell_type": "markdown",
   "id": "16804c7f-2e8b-440f-b45d-7e1ef1062b76",
   "metadata": {},
   "source": [
    "### Final"
   ]
  },
  {
   "cell_type": "code",
   "execution_count": 342,
   "id": "c6e695c8-509d-4bb2-8fd3-f791d9a61931",
   "metadata": {
    "tags": [],
    "vscode": {
     "languageId": "python"
    }
   },
   "outputs": [],
   "source": [
    "# import datetime"
   ]
  },
  {
   "cell_type": "code",
   "execution_count": 343,
   "id": "80f88c43-f6c9-4e61-9ef7-dd5d54d1f8cf",
   "metadata": {
    "tags": [],
    "vscode": {
     "languageId": "python"
    }
   },
   "outputs": [],
   "source": [
    "# date = datetime.datetime.now().strftime('%y%m%d')\n",
    "# res_df = pd.DataFrame([[k,v] for k, v in results.items()], columns=['question', 'answer'])\n",
    "# res_df.to_excel(f'../bench-results/bech_res_{date}_base.xlsx')  \n",
    "# res_df"
   ]
  },
  {
   "cell_type": "code",
   "execution_count": null,
   "id": "2d8f6157-531c-460c-ab5c-d4c876a9bccc",
   "metadata": {
    "vscode": {
     "languageId": "python"
    }
   },
   "outputs": [],
   "source": []
  }
 ],
 "metadata": {
  "kernelspec": {
   "display_name": "Mojo",
   "language": "mojo",
   "name": "mojo-jupyter-kernel"
  },
  "language_info": {
   "codemirror_mode": {
    "name": "mojo"
   },
   "file_extension": ".mojo",
   "mimetype": "text/x-mojo",
   "name": "mojo",
   "version": "3.12.2"
  },
  "toc-autonumbering": false
 },
 "nbformat": 4,
 "nbformat_minor": 5
}
